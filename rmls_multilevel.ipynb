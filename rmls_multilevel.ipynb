{
 "cells": [
  {
   "cell_type": "markdown",
   "metadata": {},
   "source": [
    "# Multilevel modeling, a case study with the Russia Longitudinal Modeling Survey data\n",
    "\n",
    "This notebook demonstrates linear and generalized linear multilevel\n",
    "regression, using data from the Russia Longitudinal Monitoring Survey\n",
    "([RLMS](https://www.cpc.unc.edu/projects/rlms-hse/)).\n",
    "\n",
    "We will focus here on linear mixed effects regression, a technique\n",
    "that can be used to conduct linear regression analysis on datasets\n",
    "with multilevel or longitudinal structure, or that have other forms of\n",
    "statistical dependence among the observations.\n",
    "\n",
    "The RLMS is a longitudinal study conducted in Russia starting in 1994.\n",
    "It captures hundreds of different characteristics of the subjects.\n",
    "Subjects in the RLMS may be assessed yearly, but most subjects\n",
    "participate more sporadically.  This study is based on questionnaires\n",
    "and interviews.  All responses are entered into the dataset as\n",
    "reported by the subjects - there is no expert verification of the\n",
    "responses (e.g. by clinical exam or review of administrative records).\n",
    "\n",
    "To access the data files, it is necessary to register for an account\n",
    "on the [UNC Dataverse](https://dataverse.unc.edu/) site, and accept\n",
    "the terms of use.  Once the registration is complete, the data can be\n",
    "retrieved from [this\n",
    "site](https://dataverse.unc.edu/dataset.xhtml?persistentId=doi:10.15139/S3/12438).\n",
    "The data are available in several formats, below we start with the\n",
    "compressed data file '`IND_1994_2015_v2_STATA.7z`'.  This is a Stata\n",
    "dta format file, compressed using the \"7z\" compression utility.  After\n",
    "obtaining this file, uncompress it using a program like `7z` to get a\n",
    "Stata dta file.  Then use the code below to convert the Stata file\n",
    "into a csv file.  The code in the cell below is set up so that by\n",
    "default it does not run.  You won't want this code to run every time\n",
    "you use this notebook, but you can change `False` to `True` in the\n",
    "'`if`' statement and run this cell once to create the data file named\n",
    "'`rlms.csv.gz`' that we will use below."
   ]
  },
  {
   "cell_type": "code",
   "execution_count": null,
   "metadata": {},
   "outputs": [],
   "source": [
    "if False: # Do not run by default, change False->True to run\n",
    "\n",
    "    import pandas as pd\n",
    "    import gzip\n",
    "\n",
    "    # Edit this to contain the variables that will be retained.\n",
    "    cols = [\"idind\", \"year\", \"psu\", \"marst\", \"h5\", \"h6\", \"h7_2\", \"m1\",\n",
    "            \"m2\", \"o38a\", \"j57\", \"j59\"]\n",
    "\n",
    "    df = pd.read_stata(\"RLMS_IND_1994_2015_v2_STATA.dta\", columns=cols)\n",
    "\n",
    "    gid = gzip.open(\"rlms.csv.gz\", \"wt\")\n",
    "    df.to_csv(gid, index=None)\n",
    "    gid.close()"
   ]
  },
  {
   "cell_type": "markdown",
   "metadata": {},
   "source": [
    "The '`cols`' argument above contains the names of the variables that\n",
    "are to be included in the final csv file (the raw data files have\n",
    "several thousand columns but we will only retain a few of them here).\n",
    "To understand what the variables mean, refer to the data documentation\n",
    "file '`1994_2015_ind_codebook.pdf`', which can be obtained from the\n",
    "same web page linked above where the data were obtained.  Note that\n",
    "the names in the Stata file are in lower case, and decimal points in\n",
    "the variable names have been changed to underscores.\n",
    "\n",
    "Here is some more information about some if the key variables that we\n",
    "will use below:"
   ]
  },
  {
   "cell_type": "markdown",
   "metadata": {},
   "source": [
    "```\n",
    "idind: person-level id\n",
    "year: year of survey response\n",
    "psu: sampling unit (location) of the respondent\n",
    "marst: marital status\n",
    "h5: gender\n",
    "h6: birth year\n",
    "h7_2: interview month\n",
    "m1: body weight (kg)\n",
    "m2: height (cm)\n",
    "o38a: hours sleeping\n",
    "j57: income last 30 days\n",
    "j59: hours worked last 30 days\n",
    "```\n"
   ]
  },
  {
   "cell_type": "markdown",
   "metadata": {},
   "source": [
    "## Linear multilevel regression of BMI\n",
    "\n",
    "Now that the data are prepared, we can begin with the analysis.  First\n",
    "we import the usual libraries that we need for statistical analysis in\n",
    "Python."
   ]
  },
  {
   "cell_type": "code",
   "execution_count": null,
   "metadata": {},
   "outputs": [],
   "source": [
    "%matplotlib inline\n",
    "import pandas as pd\n",
    "import numpy as np\n",
    "import statsmodels.api as sm\n",
    "import seaborn as sns"
   ]
  },
  {
   "cell_type": "markdown",
   "metadata": {},
   "source": [
    "Next we read the dataset that we created above.  You should change the\n",
    "path in the cell below to point to the location where you are keeping\n",
    "the data file.  You may get a warning about \"mixed dtypes\" that can be\n",
    "ignored here."
   ]
  },
  {
   "cell_type": "code",
   "execution_count": null,
   "metadata": {},
   "outputs": [],
   "source": [
    "df = pd.read_csv(\"/nfs/kshedden/RLMS/rlms.csv.gz\") # Change the path here"
   ]
  },
  {
   "cell_type": "markdown",
   "metadata": {},
   "source": [
    "This is a longitudinal (repeated measures) data set in \"long format\",\n",
    "meaning that each observation is contained in a separate row, with\n",
    "multiple rows used to contain all the data for one subject.  In\n",
    "contrast, in a \"wide format\" data file, the data for each subject is\n",
    "contained in a single row, with multiple columns used to contain the\n",
    "repeated measures.  For most forms of regression using repeated\n",
    "measures data (including multilevel regression as discussed here), the\n",
    "data must be in long format.\n",
    "\n",
    "Since different subjects in the RLMS respond different numbers of\n",
    "times, we have \"unbalanced repeated measures\" here.  The following\n",
    "gives us an initial sense of how many repeated measures we have (the\n",
    "first column of the output is the number of repeated measurements for\n",
    "a subject, the second column is the number of subjects with that\n",
    "number of repeated measurements)."
   ]
  },
  {
   "cell_type": "code",
   "execution_count": null,
   "metadata": {},
   "outputs": [],
   "source": [
    "sz = df[[\"idind\", \"m1\"]].dropna().groupby(\"idind\").size().value_counts()\n",
    "print(sz)"
   ]
  },
  {
   "cell_type": "markdown",
   "metadata": {},
   "source": [
    "One drawback of using text/csv for datasets is that it is not always\n",
    "evident what data type (e.g. numeric, text, date/time) best represents\n",
    "each column.  In the next cell, we convert all the columns that should\n",
    "contain numeric values into a numeric format."
   ]
  },
  {
   "cell_type": "code",
   "execution_count": null,
   "metadata": {},
   "outputs": [],
   "source": [
    "qv = (\"idind\", \"year\", \"h6\", \"m1\", \"m2\", \"o38a\", \"j57\", \"j59\")\n",
    "for c in qv:\n",
    "    df[c] = pd.to_numeric(df[c], errors=\"coerce\")"
   ]
  },
  {
   "cell_type": "markdown",
   "metadata": {},
   "source": [
    "Next, we create several new variables and transform other variables in\n",
    "ways that will be needed for the analysis below."
   ]
  },
  {
   "cell_type": "code",
   "execution_count": null,
   "metadata": {},
   "outputs": [],
   "source": [
    "df[\"female\"] = (df.h5 == \"female\").astype(np.int)\n",
    "df[\"age\"] = df.year - df.h6\n",
    "df[\"bmi\"] = df.m1 / (df.m2 / 100)**2\n",
    "year_mean = df.year.mean()\n",
    "df[\"year_cen\"] = df.year - year_mean\n",
    "age_mean = df.age.mean()\n",
    "df[\"age_cen\"] = df.age - age_mean\n",
    "df[\"birth_year_cen\"] = df.h6 - df.h6.mean()"
   ]
  },
  {
   "cell_type": "markdown",
   "metadata": {},
   "source": [
    "Now we create our final analysis dataset, dropping all rows with any\n",
    "missing values.  Then we check again for the distribution of the\n",
    "number of responses per person."
   ]
  },
  {
   "cell_type": "code",
   "execution_count": null,
   "metadata": {},
   "outputs": [],
   "source": [
    "dx = df[[\"idind\", \"bmi\", \"age_cen\", \"female\", \"birth_year_cen\",\n",
    "         \"year_cen\", \"psu\"]].dropna()\n",
    "dx.groupby(\"idind\").size().value_counts()"
   ]
  },
  {
   "cell_type": "markdown",
   "metadata": {},
   "source": [
    "Below we will be looking at regression analyses in which body mass\n",
    "index (BMI) is the dependent variable.  BMI is anticipated to differ\n",
    "by gender and age, and also may vary based on birth cohort.\n",
    "\n",
    "Although our goal here is to conduct regression analyses that account for the\n",
    "repeated measures aspect of the data, it is a convenient fact that the mean\n",
    "structure parameters of a linear model can be estimated reasonably\n",
    "well using ordinary least squares (OLS), even if multilevel-structure\n",
    "is present.  Thus, we start with an OLS fit:"
   ]
  },
  {
   "cell_type": "code",
   "execution_count": null,
   "metadata": {},
   "outputs": [],
   "source": [
    "model0 = sm.OLS.from_formula(\"bmi ~ age_cen*female + year_cen\",\n",
    "             data=dx)\n",
    "result0 = model0.fit()\n",
    "print(result0.summary())"
   ]
  },
  {
   "cell_type": "markdown",
   "metadata": {},
   "source": [
    "Next we turn to using mixed linear regression for this analysis.  It\n",
    "is possible, but a bit slow to fit these models to the entire data set\n",
    "that we have here.  Therefore, we reduce the data size by subsampling."
   ]
  },
  {
   "cell_type": "code",
   "execution_count": null,
   "metadata": {},
   "outputs": [],
   "source": [
    "idx = dx.idind.unique()\n",
    "idx_use = np.random.choice(idx, 2000, replace=False)\n",
    "dx = dx.loc[dx.idind.isin(idx_use), :]"
   ]
  },
  {
   "cell_type": "markdown",
   "metadata": {},
   "source": [
    "## Random intercepts model for BMI\n",
    "\n",
    "We start with a basic \"random intercepts model\".  This model has the\n",
    "same mean structure as the model we fit above using OLS, but it also\n",
    "gives each subject their own intercept for the regression of BMI on\n",
    "age, gender, and year.  The standard deviation of this random intercept\n",
    "reveals how much the different subjects' intercepts differ from each\n",
    "other."
   ]
  },
  {
   "cell_type": "code",
   "execution_count": null,
   "metadata": {},
   "outputs": [],
   "source": [
    "model1 = sm.MixedLM.from_formula(\"bmi ~ age_cen*female + year_cen\",\n",
    "                  groups=\"idind\", data=dx)\n",
    "result1 = model1.fit()\n",
    "print(result1.summary())"
   ]
  },
  {
   "cell_type": "markdown",
   "metadata": {},
   "source": [
    "Note that in the OLS fit, all the mean structure parameters are\n",
    "strongly statistically significant, but the significance levels are\n",
    "weaker in this mixed model.  Dependence between observations tends to\n",
    "overstate the information in the data, hence it is typically the case\n",
    "that properly accounting for dependence in the data reduces the\n",
    "apparent statistical significance to more accurately depict the\n",
    "uncertainty in the analysis.\n",
    "\n",
    "In addition to modeling age, we also model the year in which the\n",
    "response was recorder (`year_cen`).  This covariate has a\n",
    "statistically significant positive relationship with BMI, indicating\n",
    "that the BMI is increasing in the Russian population over the years of\n",
    "this study.  According to this analysis, in around 50 years time\n",
    "the BMI of the average Russian male of average age will have increased\n",
    "by around 1 ${\\rm kg}/m^2$.\n",
    "\n",
    "The generating form for the random intercepts model is\n",
    "\n",
    "$$\n",
    "y_{ij} = \\beta^\\prime x_{ij} + \\theta_i + \\epsilon_{ij},\n",
    "$$\n",
    "\n",
    "where $y_{ij}$ is the observed response value for observation $j$\n",
    "in cluster $i$, and $x_{ij}$ is the corresponding vector of covariates.\n",
    "The regression parameters (sometimes called \"mean structure parameters\"\n",
    "or \"fixed effects parameters\") are in $\\beta$.  There are two random\n",
    "terms in the model.  The $\\theta_i$ have mean zero and variance $\\tau^2$.\n",
    "The $\\epsilon)_{ij}$ have mean zero and variance $\\sigma^2$.  Note that\n",
    "$\\theta_i$ is shared by all observations within cluster $i$, but each\n",
    "observation has its own \"noise value\" $\\epsilon_{ij}$.\n",
    "\n",
    "The variance structure of the random intercept model can be interpreted\n",
    "using the notion of \"intraclass correlation\" (ICC).  In this model,\n",
    "the ICC is the ratio of the variance of the random intercepts to the\n",
    "total variance ($\\tau^2 / (\\tau^2 + \\sigma^2)$):"
   ]
  },
  {
   "cell_type": "code",
   "execution_count": null,
   "metadata": {},
   "outputs": [],
   "source": [
    "pa = result1.params\n",
    "\n",
    "icc = pa[\"idind Var\"] / (pa[\"idind Var\"] + result1.scale)\n",
    "print(icc)"
   ]
  },
  {
   "cell_type": "markdown",
   "metadata": {},
   "source": [
    "The following plot shows what the \"idealized\" BMI trends are\n",
    "for a sample of simulated subjects.  These idealized trends\n",
    "do not include the independent, unexplained variation\n",
    "corresponding to the term $\\epsilon_{ij}$ in the model\n",
    "given above."
   ]
  },
  {
   "cell_type": "code",
   "execution_count": null,
   "metadata": {},
   "outputs": [],
   "source": [
    "a = pa[\"Intercept\"]\n",
    "b = pa[\"age_cen\"]\n",
    "s = np.sqrt(pa[\"idind Var\"])\n",
    "\n",
    "for k in range(10):\n",
    "    x = np.r_[20, 60]\n",
    "    y = a + b * (x - age_mean) + s * np.random.normal()\n",
    "    ax = sns.lineplot(x, y, color='purple')\n",
    "\n",
    "ax.set_xlabel(\"Age\", size=15)\n",
    "_ = ax.set_ylabel(\"BMI\", size=15)"
   ]
  },
  {
   "cell_type": "markdown",
   "metadata": {},
   "source": [
    "## Random slopes model for BMI\n",
    "\n",
    "Next we incorporate a random slope for age into the multilevel model.\n",
    "Doing this allows the BMI of each subject to change in its own way as\n",
    "the subject ages.  Note that while the variance of the random slope\n",
    "for age appears small, the standard deviation (square root of the\n",
    "variance) conveys its impact in the proper units (BMI units/year of\n",
    "age).  The random slopes are realized independently for each subject,\n",
    "and added to the common slope (the fixed effect for age) to obtain the\n",
    "trend line between BMI and age for one subject."
   ]
  },
  {
   "cell_type": "code",
   "execution_count": null,
   "metadata": {},
   "outputs": [],
   "source": [
    "vcf = {\"i\": \"1\", \"s\": \"0 + age_cen\"}\n",
    "model2 = sm.MixedLM.from_formula(\"bmi ~ age_cen*female + year_cen\",\n",
    "              groups=\"idind\", vc_formula=vcf, data=dx)\n",
    "result2 = model2.fit()\n",
    "print(result2.summary())"
   ]
  },
  {
   "cell_type": "markdown",
   "metadata": {},
   "source": [
    "We can visualize the idealized trajectories for different simulated\n",
    "subjects as we did above:"
   ]
  },
  {
   "cell_type": "code",
   "execution_count": null,
   "metadata": {},
   "outputs": [],
   "source": [
    "pa = result2.params\n",
    "\n",
    "a = pa[\"Intercept\"]\n",
    "b = pa[\"age_cen\"]\n",
    "si = np.sqrt(pa[\"i Var\"])\n",
    "ss = np.sqrt(pa[\"s Var\"])\n",
    "\n",
    "for k in range(10):\n",
    "    x = np.r_[20, 60]\n",
    "    a1 = a + si * np.random.normal()\n",
    "    b1 = b + ss * np.random.normal()\n",
    "    y = a1 + b1 * (x - age_mean)\n",
    "    ax = sns.lineplot(x, y, color='orange')\n",
    "\n",
    "ax.set_xlabel(\"Age\", size=15)\n",
    "_ = ax.set_ylabel(\"BMI\", size=15)"
   ]
  },
  {
   "cell_type": "markdown",
   "metadata": {},
   "source": [
    "We can visualize the estimated distribution of slopes of BMI on age as\n",
    "follows (technically this only applies to males, but since the\n",
    "interaction between age and gender is weak, the distribution of random\n",
    "slopes for females would look similar).  Based on this plot, we see\n",
    "that BMI increases by around 0.15 units per year in an average\n",
    "subject, but for some subjects the BMI trend is around 0.3 units per\n",
    "year, and for a small number of subject the BMI trend is nearly zero\n",
    "or slightly negative."
   ]
  },
  {
   "cell_type": "code",
   "execution_count": null,
   "metadata": {},
   "outputs": [],
   "source": [
    "pa = result2.params\n",
    "\n",
    "m = pa[\"age_cen\"]\n",
    "s = np.sqrt(pa[\"s Var\"])\n",
    "\n",
    "x = np.linspace(m - 3*s, m + 3*s, 100)\n",
    "y = np.exp(-(x - m)**2 / (2 * s**2)) / np.sqrt(2 * np.pi * s**2)\n",
    "\n",
    "ax = sns.lineplot(x, y)\n",
    "ax.set_xlabel(\"Slope\", size=15)\n",
    "_ = ax.set_ylabel(\"Density\", size=15)"
   ]
  },
  {
   "cell_type": "markdown",
   "metadata": {},
   "source": [
    "The RMLS is a survey in which first \"primary sampling units\" (PSUs)\n",
    "are selected, then subjects are selected randomly from the PSUs.  As a\n",
    "result, subjects in the same PSU may be more similar to each other\n",
    "than subjects in two different PSUs.  This creates correlation in the\n",
    "data that should be accounted for.  One way to do this is to include a\n",
    "random intercept for PSU, along with the random intercept and random\n",
    "slope that we have already included for subjects."
   ]
  },
  {
   "cell_type": "code",
   "execution_count": null,
   "metadata": {},
   "outputs": [],
   "source": [
    "vcf = {\"i\": \"0 + C(idind)\", \"s\": \"0 + C(idind):age_cen\",\n",
    "       \"ipsu\": \"1\"}\n",
    "model3 = sm.MixedLM.from_formula(\"bmi ~ age_cen*female + year_cen\",\n",
    "              groups=\"psu\", vc_formula=vcf, data=dx)\n",
    "result3 = model3.fit()\n",
    "print(result3.summary())"
   ]
  },
  {
   "cell_type": "markdown",
   "metadata": {},
   "source": [
    "The results above indicate that PSU's may differ slightly in terms of\n",
    "BMI at the mean age (this is reflected in the `ipsu Var` term).  But\n",
    "individuals within a PSU vary to a much greater degree (based on the\n",
    "`i Var term`).  This can be visualized through the plot below, which\n",
    "shows the distribution of BMI at the mean age for males for two\n",
    "different PSU's, one of which is 1 SD above the population mean, and\n",
    "one of which is 1 SD below the population mean."
   ]
  },
  {
   "cell_type": "code",
   "execution_count": null,
   "metadata": {},
   "outputs": [],
   "source": [
    "pa = result3.params\n",
    "\n",
    "v1 = pa[\"i Var\"]\n",
    "v2 = pa[\"ipsu Var\"]\n",
    "\n",
    "s1 = np.sqrt(v1)\n",
    "s2 = np.sqrt(v2)\n",
    "\n",
    "x = np.linspace(-3*s1, 3*s1, 100)\n",
    "\n",
    "y = np.exp(-(x - s2)**2 / (2 * s1**2)) / np.sqrt(2 * np.pi * s1**2)\n",
    "ax = sns.lineplot(x, y)\n",
    "\n",
    "y = np.exp(-(x + s2)**2 / (2 * s1**2)) / np.sqrt(2 * np.pi * s1**2)\n",
    "ax = sns.lineplot(x, y)\n",
    "\n",
    "ax.set_xlabel(\"Intercept (BMI at mean age)\", size=15)\n",
    "_ = ax.set_ylabel(\"Density\", size=15)"
   ]
  },
  {
   "cell_type": "markdown",
   "metadata": {},
   "source": [
    "Above we established that PSUs differ somewhat in terms of the BMI at\n",
    "the mean age.  We can also consider the possibility that the rate at\n",
    "which BMI changes with age differs by PSU."
   ]
  },
  {
   "cell_type": "code",
   "execution_count": null,
   "metadata": {},
   "outputs": [],
   "source": [
    "vcf = {\"i\": \"0 + C(idind)\", \"s\": \"0 + C(idind):age_cen\",\n",
    "       \"ipsu\": \"1\", \"spsu\": \"0 + age_cen\"}\n",
    "model4 = sm.MixedLM.from_formula(\"bmi ~ age_cen*female + year_cen\",\n",
    "              groups=\"psu\", vc_formula=vcf, data=dx)\n",
    "result4 = model4.fit()\n",
    "print(result4.summary())"
   ]
  },
  {
   "cell_type": "markdown",
   "metadata": {},
   "source": [
    "The results above indicate that the variance parameter for\n",
    "PSU-specific slopes is estimated to be nearly zero.  Since variances\n",
    "cannot be negative, this implies that the parameter estimate is\n",
    "converging to the boundary of the parameter space.  Most standard\n",
    "optimization algorithms have trouble in this regime.  Also, the\n",
    "reported standard errors are generally not meaningful when the\n",
    "estimated parameters are on the boundary of the parameter space.  The\n",
    "warning messages indicate that the variance parameter for PSU-specific\n",
    "slopes is likely to be small.  In general, it is best to remove\n",
    "parameters like this from the model.\n",
    "\n",
    "## Other related methods\n",
    "\n",
    "Above we focused exclusively on linear multilevel models.  These\n",
    "models are appropriate for data in which the marginal and conditional\n",
    "mean structures can be modeled as linear functions of the covariates\n",
    "and random effects.  As in the case of regression with independent\n",
    "observations, in many settings it is desirable to use a nonlinear\n",
    "model.  In the independent data setting, logistic and Poisson\n",
    "regression are useful nonlinear models.  Combining these ideas, there\n",
    "is a class of models called \"generalized linear mixed models\".  These\n",
    "models allow data to follow a generalized linear model conditionally\n",
    "on the random effects.  Currently (February 2019), Statsmodels has\n",
    "partial support for mixed binomial and Poisson regression.  This\n",
    "capability is not in the main Statsmodels release, but can be\n",
    "conducted using a development snapshot of Statsmodels from\n",
    "[Github](https://github.com/statsmodels).\n",
    "\n",
    "Another technique that is sometimes useful is the conditional fixed\n",
    "effects models.  The development snapshot of Statsmodels has support\n",
    "for conditional logistic and Poisson regression."
   ]
  }
 ],
 "metadata": {},
 "nbformat": 4,
 "nbformat_minor": 1
}
