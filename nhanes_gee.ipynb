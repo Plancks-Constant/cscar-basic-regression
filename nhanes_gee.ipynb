{
 "cells": [
  {
   "cell_type": "markdown",
   "metadata": {},
   "source": [
    "# Generalized estimating equations (GEE)\n",
    "\n",
    "Generalized estimating equations (GEE) is a regression analysis\n",
    "fromework that was first formalized in the 1980's, building on and\n",
    "unifying earlier work.  The main goal of GEE is to allow the framework\n",
    "of generalized linear modeling (GLM) to be able to handle certain types of\n",
    "dependent data.  GEE retains the relative simplicity of GLM, while\n",
    "enabling it to be used in a much wider range of settings.\n",
    "\n",
    "Like GLM, GEE is an approach for regression analysis, which means that\n",
    "it focuses primarily on the *mean structure* $E[y | x_1, \\ldots,\n",
    "x_p]$, where $y$ here is the dependent variable of the regression, and\n",
    "$x_1, \\ldots, x_p$ are the covariates.  As in GLM, a link function $g$\n",
    "is used, so we will be relating the mean to the linear predictor\n",
    "through the mean structure model\n",
    "\n",
    "$$\n",
    "g(E[y | x_1, \\ldots, x_p]) = b_0 + b_1x_1 + \\cdots + b_px_p.\n",
    "$$\n",
    "\n",
    "A GEE regression also involves a mean/variance relationship function\n",
    "$f$\n",
    "\n",
    "$$\n",
    "{\\rm Var}[y | x_1, \\ldots, x_p] = f(E[y | x_1, \\ldots, x_p]).\n",
    "$$\n",
    "\n",
    "Other concepts from GLM like the scale parameter ($\\phi$) and family\n",
    "(e.g. `binomial`) play similar roles in GEE as they do in GLM.\n",
    "\n",
    "The new component of a GEE that is not present in a GLM is the\n",
    "*working dependence structure*, or *working correlation*.  This\n",
    "specifies how observations are related to each other.  Note that in a\n",
    "GLM, the observations are treated as being independent of each other,\n",
    "while GEE can accommodate many different forms of dependence between\n",
    "observations.\n",
    "\n",
    "The reason that the dependence structure in a GEE is referred to as a\n",
    "\"working\" dependence structure is that it does not have to be correct\n",
    "for the results of the regression to be valid.  If the working\n",
    "dependence structure is correct, the GEE results will be more\n",
    "efficient (i.e. the estimates will be more accurate, and the standard\n",
    "errors will tend to be smaller).  If the working dependence structure\n",
    "is incorrect, the parameter estimates will be less accurate, and\n",
    "the standard errors will be correspondingly larger.  But with enough\n",
    "data, the regression parameter estimates will still be accurate.\n",
    "\n",
    "This notebook is organized as a case study.  We begin by using data\n",
    "from NHANES (the National Health and Nutrition Examination Survey).\n",
    "\n",
    "First we import the libraries that we will be using."
   ]
  },
  {
   "cell_type": "code",
   "execution_count": 1,
   "metadata": {},
   "outputs": [],
   "source": [
    "%matplotlib inline\n",
    "import matplotlib.pyplot as plt\n",
    "import seaborn as sns\n",
    "import pandas as pd\n",
    "import statsmodels.api as sm\n",
    "import numpy as np"
   ]
  },
  {
   "cell_type": "markdown",
   "metadata": {},
   "source": [
    "Next we read the data. For simplicity, here we will use \"complete case\n",
    "analysis\", meaning that we drop all cases with a missing value on any\n",
    "variable of potential interest."
   ]
  },
  {
   "cell_type": "code",
   "execution_count": 2,
   "metadata": {},
   "outputs": [],
   "source": [
    "url = \"https://raw.githubusercontent.com/kshedden/statswpy/master/NHANES/merged/nhanes_2015_2016.csv\"\n",
    "da = pd.read_csv(url)\n",
    "\n",
    "# Drop unused columns, drop rows with any missing values.\n",
    "vars = [\"SEQN\", \"BPXSY1\", \"BPXSY2\", \"RIDAGEYR\", \"RIAGENDR\", \"RIDRETH1\",\n",
    "        \"DMDEDUC2\", \"BMXBMI\", \"SMQ020\", \"INDFMPIR\", \"SDMVSTRA\", \"SDMVPSU\",\n",
    "        \"DMDMARTL\"]\n",
    "da = da[vars].dropna()"
   ]
  },
  {
   "cell_type": "markdown",
   "metadata": {},
   "source": [
    "Below we will be using several NHANES variables that are categorical.\n",
    "To make the results easier to interpret, we next create variables\n",
    "that express the groups with text labels."
   ]
  },
  {
   "cell_type": "code",
   "execution_count": 3,
   "metadata": {},
   "outputs": [],
   "source": [
    "da[\"RIAGENDRx\"] = da.RIAGENDR.replace({1: \"Male\", 2: \"Female\"})\n",
    "\n",
    "da[\"RIDRETH1x\"] = da.RIDRETH1.replace({1: \"MexicanAmerican\", 2: \"OtherHispanic\",\n",
    "                   3: \"NonHispanicWhite\", 4: \"NonHispanicBlack\", 5: \"Other\"})\n",
    "\n",
    "da[\"DMDEDUC2x\"] = da.DMDEDUC2.replace({1: \"Lt9\", 2: \"g9-11\", 3: \"HS\", 4: \"SomeCollege\",\n",
    "                      5: \"College\", 6: np.nan, 7: np.nan, 9: np.nan})\n",
    "\n",
    "da[\"DMDMARTLx\"] = da.DMDMARTL.replace({1: \"Married\", 2: \"Widowed\", 3: \"Divorced\",\n",
    "                         4: \"Separated\", 5: \"NeverMarried\", 6: \"Partnered\",\n",
    "                         77: np.nan, 99: np.nan})"
   ]
  },
  {
   "cell_type": "markdown",
   "metadata": {},
   "source": [
    "## Cluster samples and grouped data\n",
    "\n",
    "To produce one wave of data for the NHANES study, the research staff visit multiple sites\n",
    "in the US, and sample people at each site.  The NHANES sample for one wave is\n",
    "intended to represent the adult US population at a particular point in\n",
    "time.  Strictly speaking, sampling weights are required for the sample\n",
    "to be representative, but here we ignore the weights for simplicity.\n",
    "\n",
    "To protect the confidentiality of the subjects, NHANES does not\n",
    "release the actual survey design information (the strata and\n",
    "clusters).  Instead, it creates artificial \"variance units\" such that\n",
    "treating these like the actual strata and clusters yields similar\n",
    "results to what would be obtained if the full survey design\n",
    "information were available.  For purposes of illustration, we create a\n",
    "\"group\" variable below corresponding to each distinct combination of a\n",
    "masked stratum (`SDMVSTRA`) and a masked sampling cluster (`SDMVPSU`),\n",
    "and treat this as a single level of \"grouping structure\" in the data."
   ]
  },
  {
   "cell_type": "code",
   "execution_count": 4,
   "metadata": {},
   "outputs": [
    {
     "name": "stdout",
     "output_type": "stream",
     "text": [
      "30 30\n"
     ]
    }
   ],
   "source": [
    "da[\"group\"] = 10 * da.SDMVSTRA + da.SDMVPSU\n",
    "\n",
    "# Make sure we distinguish all unique values\n",
    "a = da.SDMVSTRA.unique().size * da.SDMVPSU.unique().size\n",
    "b = da.group.unique().size\n",
    "print(a, b)"
   ]
  },
  {
   "cell_type": "markdown",
   "metadata": {},
   "source": [
    "When data are collected in groups, it is usually the case that units\n",
    "within a group are more similar than units in different groups.  Not\n",
    "accounting for this similarity has several consequences, most notably\n",
    "that the standard errors and other quantities needed for statistical\n",
    "inference are not correct.  One way to account for this is to include\n",
    "\"fixed effects\" for each group, i.e. to include the group as a\n",
    "covariate (which will subsequently be used to form indicator variables\n",
    "for all but one of the groups).  This approach can be useful,\n",
    "especially if there are relatively few groups that are large.  But\n",
    "when there are a large number of small groups, the model parameters\n",
    "can be highly inaccurate (technically, \"inconsistent\") when using\n",
    "fixed effects analysis.  This is called the \"Neyman-Scott\" problem.\n",
    "\n",
    "GEE is one method for addressing this issue.  In GEE, the groups are\n",
    "viewed as inducing a correlation between observations in the same\n",
    "group.  Thus, instead of modeling the impact of the groups through the\n",
    "mean structure, the group effect is treated as a form of correlation (dependence)\n",
    "structure.\n",
    "\n",
    "Below we will focus on regression models in which the dependent\n",
    "variable is a measure of poverty, `INDFMPIR`.  This is the ratio\n",
    "between a household's income and the poverty threshold.  Since it is a\n",
    "ratio, it makes sense to logarithmically transform it.\n",
    "\n",
    "To begin, we fit a series of mean structure models using OLS and GEE.\n",
    "These models all use age, gender, and ethnicity to predict family\n",
    "income.  For reference, we first a model using linear least squares (OLS),\n",
    "ignoring the \"group\" information."
   ]
  },
  {
   "cell_type": "code",
   "execution_count": 5,
   "metadata": {},
   "outputs": [
    {
     "name": "stdout",
     "output_type": "stream",
     "text": [
      "                            OLS Regression Results                            \n",
      "==============================================================================\n",
      "Dep. Variable:            logINDFMPIR   R-squared:                       0.063\n",
      "Model:                            OLS   Adj. R-squared:                  0.062\n",
      "Method:                 Least Squares   F-statistic:                     50.50\n",
      "Date:                Tue, 05 Feb 2019   Prob (F-statistic):           2.19e-60\n",
      "Time:                        21:02:58   Log-Likelihood:                -5684.4\n",
      "No. Observations:                4499   AIC:                         1.138e+04\n",
      "Df Residuals:                    4492   BIC:                         1.143e+04\n",
      "Df Model:                           6                                         \n",
      "Covariance Type:            nonrobust                                         \n",
      "=================================================================================================\n",
      "                                    coef    std err          t      P>|t|      [0.025      0.975]\n",
      "-------------------------------------------------------------------------------------------------\n",
      "Intercept                         0.2342      0.048      4.886      0.000       0.140       0.328\n",
      "RIAGENDRx[T.Male]                 0.0503      0.026      1.966      0.049       0.000       0.101\n",
      "RIDRETH1x[T.NonHispanicBlack]     0.2447      0.042      5.859      0.000       0.163       0.327\n",
      "RIDRETH1x[T.NonHispanicWhite]     0.5781      0.038     15.298      0.000       0.504       0.652\n",
      "RIDRETH1x[T.Other]                0.5167      0.045     11.392      0.000       0.428       0.606\n",
      "RIDRETH1x[T.OtherHispanic]        0.2016      0.047      4.304      0.000       0.110       0.293\n",
      "RIDAGEYR                       -5.34e-05      0.001     -0.072      0.942      -0.001       0.001\n",
      "==============================================================================\n",
      "Omnibus:                     1273.517   Durbin-Watson:                   2.009\n",
      "Prob(Omnibus):                  0.000   Jarque-Bera (JB):             4437.847\n",
      "Skew:                          -1.397   Prob(JB):                         0.00\n",
      "Kurtosis:                       6.983   Cond. No.                         308.\n",
      "==============================================================================\n",
      "\n",
      "Warnings:\n",
      "[1] Standard Errors assume that the covariance matrix of the errors is correctly specified.\n"
     ]
    }
   ],
   "source": [
    "da = da.loc[da.INDFMPIR >0, :]\n",
    "da[\"logINDFMPIR\"] = np.log(da.INDFMPIR)\n",
    "\n",
    "model = sm.OLS.from_formula(\"logINDFMPIR ~ RIDAGEYR + RIAGENDRx + RIDRETH1x\", data=da)\n",
    "result = model.fit()\n",
    "print(result.summary())"
   ]
  },
  {
   "cell_type": "markdown",
   "metadata": {},
   "source": [
    "Next we fit the model using an \"independent\" working dependence\n",
    "structure.  Here, the working covariance structure states that\n",
    "observations within a cluster are independent.  As noted above, the\n",
    "working dependence structure does not need to be correct.  However to\n",
    "the extent that there is correlation within groups, this fit will be\n",
    "less efficient that one that accounts for the dependence."
   ]
  },
  {
   "cell_type": "code",
   "execution_count": 6,
   "metadata": {},
   "outputs": [
    {
     "name": "stdout",
     "output_type": "stream",
     "text": [
      "                               GEE Regression Results                              \n",
      "===================================================================================\n",
      "Dep. Variable:                 logINDFMPIR   No. Observations:                 4499\n",
      "Model:                                 GEE   No. clusters:                       30\n",
      "Method:                        Generalized   Min. cluster size:                  93\n",
      "                      Estimating Equations   Max. cluster size:                 210\n",
      "Family:                           Gaussian   Mean cluster size:               150.0\n",
      "Dependence structure:         Independence   Num. iterations:                     2\n",
      "Date:                     Tue, 05 Feb 2019   Scale:                           0.734\n",
      "Covariance type:                    robust   Time:                         21:02:58\n",
      "=================================================================================================\n",
      "                                    coef    std err          z      P>|z|      [0.025      0.975]\n",
      "-------------------------------------------------------------------------------------------------\n",
      "Intercept                         0.2342      0.077      3.032      0.002       0.083       0.386\n",
      "RIAGENDRx[T.Male]                 0.0503      0.019      2.654      0.008       0.013       0.088\n",
      "RIDRETH1x[T.NonHispanicBlack]     0.2447      0.078      3.134      0.002       0.092       0.398\n",
      "RIDRETH1x[T.NonHispanicWhite]     0.5781      0.067      8.626      0.000       0.447       0.709\n",
      "RIDRETH1x[T.Other]                0.5167      0.093      5.532      0.000       0.334       0.700\n",
      "RIDRETH1x[T.OtherHispanic]        0.2016      0.082      2.446      0.014       0.040       0.363\n",
      "RIDAGEYR                       -5.34e-05      0.001     -0.049      0.961      -0.002       0.002\n",
      "==============================================================================\n",
      "Skew:                         -1.3972   Kurtosis:                       3.9831\n",
      "Centered skew:                -1.4205   Centered kurtosis:              4.1579\n",
      "==============================================================================\n",
      "Observations within a cluster are modeled as being independent."
     ]
    },
    {
     "name": "stdout",
     "output_type": "stream",
     "text": [
      "\n"
     ]
    }
   ],
   "source": [
    "model = sm.GEE.from_formula(\"logINDFMPIR ~ RIDAGEYR + RIAGENDRx + RIDRETH1x\", groups=\"group\",\n",
    "                            data=da)\n",
    "result = model.fit()\n",
    "print(result.summary())\n",
    "print(result.cov_struct.summary())"
   ]
  },
  {
   "cell_type": "markdown",
   "metadata": {},
   "source": [
    "Note that the estimated regression parameters in the OLS and\n",
    "independence GEE are identical (this will always be the case), but the\n",
    "standard errors differ.  In general, the standard errors in the OLS\n",
    "fit will be too small, and GEE will give larger, and more correct\n",
    "standard errors.  Here we see that the standard errors are around\n",
    "twice as large in GEE compared to OLS."
   ]
  },
  {
   "cell_type": "code",
   "execution_count": 7,
   "metadata": {},
   "outputs": [
    {
     "name": "stdout",
     "output_type": "stream",
     "text": [
      "                               GEE Regression Results                              \n",
      "===================================================================================\n",
      "Dep. Variable:                 logINDFMPIR   No. Observations:                 4499\n",
      "Model:                                 GEE   No. clusters:                       30\n",
      "Method:                        Generalized   Min. cluster size:                  93\n",
      "                      Estimating Equations   Max. cluster size:                 210\n",
      "Family:                           Gaussian   Mean cluster size:               150.0\n",
      "Dependence structure:         Exchangeable   Num. iterations:                     8\n",
      "Date:                     Tue, 05 Feb 2019   Scale:                           0.735\n",
      "Covariance type:                    robust   Time:                         21:02:58\n",
      "=================================================================================================\n",
      "                                    coef    std err          z      P>|z|      [0.025      0.975]\n",
      "-------------------------------------------------------------------------------------------------\n",
      "Intercept                         0.2009      0.087      2.301      0.021       0.030       0.372\n",
      "RIAGENDRx[T.Male]                 0.0535      0.018      2.894      0.004       0.017       0.090\n",
      "RIDRETH1x[T.NonHispanicBlack]     0.3091      0.076      4.083      0.000       0.161       0.458\n",
      "RIDRETH1x[T.NonHispanicWhite]     0.6161      0.070      8.741      0.000       0.478       0.754\n",
      "RIDRETH1x[T.Other]                0.4971      0.088      5.673      0.000       0.325       0.669\n",
      "RIDRETH1x[T.OtherHispanic]        0.1961      0.088      2.220      0.026       0.023       0.369\n",
      "RIDAGEYR                          0.0004      0.001      0.420      0.674      -0.002       0.002\n",
      "==============================================================================\n",
      "Skew:                         -1.3887   Kurtosis:                       3.9525\n",
      "Centered skew:                -1.4180   Centered kurtosis:              4.1571\n",
      "==============================================================================\n",
      "The correlation between two observations in the same cluster is 0.043\n"
     ]
    }
   ],
   "source": [
    "model = sm.GEE.from_formula(\"logINDFMPIR ~ RIDAGEYR + RIAGENDRx + RIDRETH1x\", groups=\"group\",\n",
    "                            cov_struct=sm.cov_struct.Exchangeable(), data=da)\n",
    "result = model.fit()\n",
    "print(result.summary())\n",
    "print(result.cov_struct.summary())"
   ]
  },
  {
   "cell_type": "markdown",
   "metadata": {},
   "source": [
    "Next we use another type of working correlation structure called\n",
    "\"exchangeable\" that is suitable for use with grouped data.  The\n",
    "exchangeable correlation structure stipulates that any two\n",
    "observations in the same group have the same level of correlation\n",
    "between them.  This common correlation parameter can be\n",
    "estimated from the data.  Any two observations in different\n",
    "groups are modeled as being independent.  The correlation between two\n",
    "observations in the same group is called the \"intraclass correlation\n",
    "coefficient\", or \"ICC\".  We are able to see here that the estimated\n",
    "ICC is around 0.04.  The ICC ranges from 0 to 1, with an ICC of zero\n",
    "meaning that the groups are irrelevant to the outcome, and an ICC of\n",
    "one meaning that the outcome is totally determined by the groups.\n",
    "While an ICC of 0.04 seems small, for reasons discussed further below\n",
    "it is large enough to have a\n",
    "noticeable impact, especially when the groups are large, as is the\n",
    "case here.\n",
    "\n",
    "The presence of positive correlations within groups reduces the amount\n",
    "of information in the data for some purposes, and enhances the\n",
    "information for other purposes.  The impact of within-cluster\n",
    "dependence can be better understood by considering two quantities\n",
    "called the \"design effect\" and the \"effective sample size\".  These\n",
    "values quantify the loss of information when the goal is to estimate a\n",
    "mean.  When the ICC is positive, the effective sample size represents\n",
    "a hypothetical sample size (smaller than the nominal sample size) such\n",
    "that the precision for estimating a mean using an independent sample\n",
    "of size equal to the effective sample size is the same as would be\n",
    "obtained using the actual (dependent) sample.\n",
    "\n",
    "For example, if the ICC is zero, then the effective sample size is the\n",
    "same as the nominal sample size (the number of observed data values).\n",
    "If the ICC is close to 1, then the effective sample size will become\n",
    "close to the number of groups (irrespective of how many observations\n",
    "are made within a group).  The design effect and effective sample size\n",
    "are calculated in the cell below."
   ]
  },
  {
   "cell_type": "code",
   "execution_count": 8,
   "metadata": {},
   "outputs": [
    {
     "name": "stdout",
     "output_type": "stream",
     "text": [
      "ICC = 0.042893\n",
      "\n",
      "Average cluster size = 149.966667\n",
      "\n",
      "Design effect = 7.389598\n",
      "\n",
      "Number of observations = 4499.000000\n",
      "\n",
      "Effective sample size = 608.828778\n",
      "\n"
     ]
    }
   ],
   "source": [
    "icc = result.cov_struct.dep_params\n",
    "print(\"ICC = %f\\n\" % icc)\n",
    "n = da.groupby(\"group\").size().mean()\n",
    "print(\"Average cluster size = %f\\n\" % n)\n",
    "de = 1 + (n - 1) * icc\n",
    "print(\"Design effect = %f\\n\" % de)\n",
    "ess = model.nobs / de\n",
    "print(\"Number of observations = %f\\n\" % model.nobs)\n",
    "print(\"Effective sample size = %f\\n\" % ess)"
   ]
  },
  {
   "cell_type": "markdown",
   "metadata": {},
   "source": [
    "In this example, the design effect is around 7, meaning that the ICC\n",
    "of around 0.04 reduces the information in our sample by around a\n",
    "factor of 7.  Since standard errors scale with the square root of the\n",
    "sample size, this means that the standard errors of the parameters may\n",
    "increase by a factor of 2-3 when properly accounting for the\n",
    "dependence structure.  This is roughly consistent with the results\n",
    "shown above, comparing the OLS standard errors to either of the GEE\n",
    "standard errors.  Note however that regression parameters do not\n",
    "behave exactly like means, so the design effect is only a rough\n",
    "indication of how the standard errors for regression parameters are\n",
    "impacted by dependence due to the clusters.\n",
    "\n",
    "One way to think about the intraclass correlation is to imagine that\n",
    "it is driven by unobserved cluster-level covariates.  That is, there\n",
    "are likely to be characteristics shared by all people in the same cluster that we\n",
    "do not observe.  Our failure to account for these covariates in the\n",
    "mean structure model induces intra-cluster dependence.  In fact, we do\n",
    "have access to many additional covariates in NHANES that could be included\n",
    "in the regressions, and we see\n",
    "below that as we include fewer covariates the ICC tends to increase, and as\n",
    "we include more covariates, the ICC tends to decrease:"
   ]
  },
  {
   "cell_type": "code",
   "execution_count": 9,
   "metadata": {},
   "outputs": [
    {
     "name": "stdout",
     "output_type": "stream",
     "text": [
      "                               GEE Regression Results                              \n",
      "===================================================================================\n",
      "Dep. Variable:                 logINDFMPIR   No. Observations:                 4499\n",
      "Model:                                 GEE   No. clusters:                       30\n",
      "Method:                        Generalized   Min. cluster size:                  93\n",
      "                      Estimating Equations   Max. cluster size:                 210\n",
      "Family:                           Gaussian   Mean cluster size:               150.0\n",
      "Dependence structure:         Exchangeable   Num. iterations:                     7\n",
      "Date:                     Tue, 05 Feb 2019   Scale:                           0.782\n",
      "Covariance type:                    robust   Time:                         21:02:58\n",
      "=====================================================================================\n",
      "                        coef    std err          z      P>|z|      [0.025      0.975]\n",
      "-------------------------------------------------------------------------------------\n",
      "Intercept             0.5241      0.073      7.218      0.000       0.382       0.666\n",
      "RIAGENDRx[T.Male]     0.0662      0.019      3.521      0.000       0.029       0.103\n",
      "RIDAGEYR              0.0015      0.001      1.291      0.197      -0.001       0.004\n",
      "==============================================================================\n",
      "Skew:                         -1.3793   Kurtosis:                       3.7642\n",
      "Centered skew:                -1.4172   Centered kurtosis:              4.0956\n",
      "==============================================================================\n",
      "The correlation between two observations in the same cluster is 0.055\n"
     ]
    }
   ],
   "source": [
    "model = sm.GEE.from_formula(\"logINDFMPIR ~ RIDAGEYR + RIAGENDRx\", groups=\"group\",\n",
    "                            cov_struct=sm.cov_struct.Exchangeable(), data=da)\n",
    "result = model.fit()\n",
    "print(result.summary())\n",
    "print(result.cov_struct.summary())"
   ]
  },
  {
   "cell_type": "code",
   "execution_count": 10,
   "metadata": {},
   "outputs": [
    {
     "name": "stdout",
     "output_type": "stream",
     "text": [
      "                               GEE Regression Results                              \n",
      "===================================================================================\n",
      "Dep. Variable:                 logINDFMPIR   No. Observations:                 4497\n",
      "Model:                                 GEE   No. clusters:                       30\n",
      "Method:                        Generalized   Min. cluster size:                  92\n",
      "                      Estimating Equations   Max. cluster size:                 210\n",
      "Family:                           Gaussian   Mean cluster size:               149.9\n",
      "Dependence structure:         Exchangeable   Num. iterations:                     9\n",
      "Date:                     Tue, 05 Feb 2019   Scale:                           0.600\n",
      "Covariance type:                    robust   Time:                         21:02:59\n",
      "=================================================================================================\n",
      "                                    coef    std err          z      P>|z|      [0.025      0.975]\n",
      "-------------------------------------------------------------------------------------------------\n",
      "Intercept                         0.5822      0.087      6.714      0.000       0.412       0.752\n",
      "RIAGENDRx[T.Male]                 0.0497      0.019      2.669      0.008       0.013       0.086\n",
      "RIDRETH1x[T.NonHispanicBlack]     0.1300      0.059      2.192      0.028       0.014       0.246\n",
      "RIDRETH1x[T.NonHispanicWhite]     0.3042      0.057      5.374      0.000       0.193       0.415\n",
      "RIDRETH1x[T.Other]                0.1769      0.073      2.431      0.015       0.034       0.320\n",
      "RIDRETH1x[T.OtherHispanic]        0.1079      0.067      1.622      0.105      -0.022       0.238\n",
      "DMDMARTLx[T.Married]              0.3286      0.038      8.584      0.000       0.254       0.404\n",
      "DMDMARTLx[T.NeverMarried]         0.0467      0.057      0.826      0.409      -0.064       0.158\n",
      "DMDMARTLx[T.Partnered]            0.0315      0.069      0.455      0.649      -0.104       0.167\n",
      "DMDMARTLx[T.Separated]           -0.0986      0.073     -1.356      0.175      -0.241       0.044\n",
      "DMDMARTLx[T.Widowed]              0.0872      0.051      1.709      0.087      -0.013       0.187\n",
      "DMDEDUC2x[T.HS]                  -0.5730      0.035    -16.458      0.000      -0.641      -0.505\n",
      "DMDEDUC2x[T.Lt9]                 -1.0331      0.049    -20.946      0.000      -1.130      -0.936\n",
      "DMDEDUC2x[T.SomeCollege]         -0.3640      0.036    -10.144      0.000      -0.434      -0.294\n",
      "DMDEDUC2x[T.g9-11]               -0.8189      0.042    -19.430      0.000      -0.902      -0.736\n",
      "RIDAGEYR                          0.0021      0.001      2.076      0.038       0.000       0.004\n",
      "==============================================================================\n",
      "Skew:                         -1.5643   Kurtosis:                       5.3198\n",
      "Centered skew:                -1.5705   Centered kurtosis:              5.5112\n",
      "==============================================================================\n",
      "The correlation between two observations in the same cluster is 0.020\n"
     ]
    }
   ],
   "source": [
    "model = sm.GEE.from_formula(\"logINDFMPIR ~ RIDAGEYR + RIAGENDRx + RIDRETH1x + DMDMARTLx + DMDEDUC2x\", groups=\"group\",\n",
    "                            cov_struct=sm.cov_struct.Exchangeable(), data=da)\n",
    "result = model.fit()\n",
    "print(result.summary())\n",
    "print(result.cov_struct.summary())"
   ]
  },
  {
   "cell_type": "markdown",
   "metadata": {},
   "source": [
    "## Grouped data with nonlinear mean structures\n",
    "\n",
    "The GEE analysis above uses a linear mean structure.  In the case of\n",
    "independent observations, a linear mean structure can be fit to data using\n",
    "ordinary least squares (OLS).  In the case of dependent observations,\n",
    "GEE can be used in place of OLS, as demonstrated above.  Using GEE when\n",
    "dependence is present will give more accurate estimates and more meaningful\n",
    "standard errors.\n",
    "\n",
    "In the setting of a linear mean structure, GEE is equivalent\n",
    "to an older procedure called \"Generalized Least Squares\" (GLS).  GLS is\n",
    "a form of least squares fitting that shares many features in common with\n",
    "OLS.  While GEE and GLS estimate the regression parameters in the same way, GEE\n",
    "carries out inference (standard error calculations) using a\n",
    "robust approach that gives correct results even if the working dependence\n",
    "is wrong.  This robust inference also has a history predating GEE, and is\n",
    "alternatively known as \"Huber-White\" or \"sandwich\" covariance estimation.\n",
    "\n",
    "GEE can be used with any GLM link function and family.  For example, there are\n",
    "GEE analogues of logistic and Poisson regression. In the case where\n",
    "the link function is not linear, the\n",
    "fitting is less closely connected to least squares (it is not OLS or GLS, but\n",
    "it can be viewed as the limit of a sequence of least squares fits, and as such\n",
    "may be referred to as \"iteratively reweighted least squares\").\n",
    "\n",
    "To demonstrate GEE with a nonlinear mean struture, we use the smoking status\n",
    "variable in NHANES, which is binary.  First, for reference, we fit a binomial\n",
    "GLM (standard logistic regression).  This analysis does not account for the\n",
    "cluster (grouping) structure in the data, so has the potential to give\n",
    "misleading results."
   ]
  },
  {
   "cell_type": "code",
   "execution_count": 11,
   "metadata": {},
   "outputs": [
    {
     "name": "stdout",
     "output_type": "stream",
     "text": [
      "                 Generalized Linear Model Regression Results                  \n",
      "==============================================================================\n",
      "Dep. Variable:                  Smoke   No. Observations:                 4496\n",
      "Model:                            GLM   Df Residuals:                     4493\n",
      "Model Family:                Binomial   Df Model:                            2\n",
      "Link Function:                  logit   Scale:                          1.0000\n",
      "Method:                          IRLS   Log-Likelihood:                -2916.5\n",
      "Date:                Tue, 05 Feb 2019   Deviance:                       5833.1\n",
      "Time:                        21:02:59   Pearson chi2:                 4.50e+03\n",
      "No. Iterations:                     4   Covariance Type:             nonrobust\n",
      "=====================================================================================\n",
      "                        coef    std err          z      P>|z|      [0.025      0.975]\n",
      "-------------------------------------------------------------------------------------\n",
      "Intercept            -1.6100      0.101    -15.944      0.000      -1.808      -1.412\n",
      "RIAGENDRx[T.Male]     0.8582      0.062     13.739      0.000       0.736       0.981\n",
      "RIDAGEYR              0.0177      0.002      9.861      0.000       0.014       0.021\n",
      "=====================================================================================\n"
     ]
    }
   ],
   "source": [
    "da[\"SMQ020x\"] = da.SMQ020.replace({1: \"yes\", 2: \"no\", 7: np.nan, 9: np.nan})\n",
    "dx = da[[\"SMQ020x\", \"RIDAGEYR\", \"RIAGENDRx\", \"RIDRETH1x\", \"group\"]].dropna()\n",
    "dx[\"Smoke\"] = (da.SMQ020x == \"yes\").astype(np.int)\n",
    "\n",
    "model = sm.GLM.from_formula(\"Smoke ~ RIDAGEYR + RIAGENDRx\",\n",
    "                            family=sm.families.Binomial(), data=dx)\n",
    "result = model.fit()\n",
    "print(result.summary())"
   ]
  },
  {
   "cell_type": "markdown",
   "metadata": {},
   "source": [
    "Next we use GEE to fit the logistic regression while accounting for the\n",
    "groups.  We use here the \"independence\" working covariance, which models\n",
    "the data as being independent, but continues to give meaningful results\n",
    "even if the observations are not independent.\n",
    "Note that the parameter estimates are the same as obtained above using\n",
    "GLM, but the standard\n",
    "errors are slightly different.\n",
    "In this case, the difference in standard\n",
    "errors is very minor, but in other cases the differences can be large.\n",
    "\n",
    "GEE with the independent working\n",
    "covariance will always give the same parameter estimates as GLM.  This\n",
    "tells us that GLM can safely be used with dependent data, as long\n",
    "as only the point estimates are considered.  If (as is usually the\n",
    "case), uncertainty is to be assessed, then GEE (or another appropriate\n",
    "approach such as mixed modeling) should be used."
   ]
  },
  {
   "cell_type": "code",
   "execution_count": 12,
   "metadata": {},
   "outputs": [
    {
     "name": "stdout",
     "output_type": "stream",
     "text": [
      "                               GEE Regression Results                              \n",
      "===================================================================================\n",
      "Dep. Variable:                       Smoke   No. Observations:                 4496\n",
      "Model:                                 GEE   No. clusters:                       30\n",
      "Method:                        Generalized   Min. cluster size:                  93\n",
      "                      Estimating Equations   Max. cluster size:                 210\n",
      "Family:                           Binomial   Mean cluster size:               149.9\n",
      "Dependence structure:         Independence   Num. iterations:                     5\n",
      "Date:                     Tue, 05 Feb 2019   Scale:                           1.000\n",
      "Covariance type:                    robust   Time:                         21:02:59\n",
      "=====================================================================================\n",
      "                        coef    std err          z      P>|z|      [0.025      0.975]\n",
      "-------------------------------------------------------------------------------------\n",
      "Intercept            -1.6100      0.122    -13.147      0.000      -1.850      -1.370\n",
      "RIAGENDRx[T.Male]     0.8582      0.072     11.986      0.000       0.718       0.998\n",
      "RIDAGEYR              0.0177      0.002     10.048      0.000       0.014       0.021\n",
      "==============================================================================\n",
      "Skew:                          0.2882   Kurtosis:                      -1.6464\n",
      "Centered skew:                 0.2654   Centered kurtosis:             -1.5526\n",
      "==============================================================================\n",
      "Observations within a cluster are modeled as being independent.\n"
     ]
    }
   ],
   "source": [
    "model = sm.GEE.from_formula(\"Smoke ~ RIDAGEYR + RIAGENDRx\",\n",
    "                            groups=\"group\",\n",
    "                            family=sm.families.Binomial(), data=dx)\n",
    "result = model.fit()\n",
    "print(result.summary())\n",
    "print(result.cov_struct.summary())"
   ]
  },
  {
   "cell_type": "markdown",
   "metadata": {},
   "source": [
    "As with the linear GEE, it is often desirable to introduce a non-independent\n",
    "covariance structure into the model.  While not strictly required to\n",
    "obtain meaningful results, doing this provides us with some insight into\n",
    "the form of the dependence structure, and also has the potential to give\n",
    "more accurate point estimates and tighter uncertainty bounds.\n",
    "\n",
    "The estimates and standard errors for the fit using the exchangeable\n",
    "covariance structure are very similar to what was obtained above using\n",
    "the independence working dependence structure.  The estimated ICC is\n",
    "small, but as discsussed above, ICC's around 0.02 can have sizeable\n",
    "impact on the parameter estimates and standard errors if the clusters\n",
    "are large, as is the case here."
   ]
  },
  {
   "cell_type": "code",
   "execution_count": 13,
   "metadata": {},
   "outputs": [
    {
     "name": "stdout",
     "output_type": "stream",
     "text": [
      "                               GEE Regression Results                              \n",
      "===================================================================================\n",
      "Dep. Variable:                       Smoke   No. Observations:                 4496\n",
      "Model:                                 GEE   No. clusters:                       30\n",
      "Method:                        Generalized   Min. cluster size:                  93\n",
      "                      Estimating Equations   Max. cluster size:                 210\n",
      "Family:                           Binomial   Mean cluster size:               149.9\n",
      "Dependence structure:         Exchangeable   Num. iterations:                     8\n",
      "Date:                     Tue, 05 Feb 2019   Scale:                           1.000\n",
      "Covariance type:                    robust   Time:                         21:02:59\n",
      "=====================================================================================\n",
      "                        coef    std err          z      P>|z|      [0.025      0.975]\n",
      "-------------------------------------------------------------------------------------\n",
      "Intercept            -1.6044      0.121    -13.237      0.000      -1.842      -1.367\n",
      "RIAGENDRx[T.Male]     0.8620      0.070     12.259      0.000       0.724       1.000\n",
      "RIDAGEYR              0.0170      0.002     10.132      0.000       0.014       0.020\n",
      "==============================================================================\n",
      "Skew:                          0.2888   Kurtosis:                      -1.6528\n",
      "Centered skew:                 0.2659   Centered kurtosis:             -1.5585\n",
      "==============================================================================\n",
      "The correlation between two observations in the same cluster is 0.023\n"
     ]
    }
   ],
   "source": [
    "model = sm.GEE.from_formula(\"Smoke ~ RIDAGEYR + RIAGENDRx\",\n",
    "                            groups=\"group\",\n",
    "                            family=sm.families.Binomial(),\n",
    "                            cov_struct=sm.cov_struct.Exchangeable(), data=dx)\n",
    "result = model.fit()\n",
    "print(result.summary())\n",
    "print(result.cov_struct.summary())"
   ]
  },
  {
   "cell_type": "markdown",
   "metadata": {},
   "source": [
    "Note that while these models are estimated using the GEE framework, the\n",
    "interpretation of the effects is the same as in a GLM.  In this case,\n",
    "we are working with a logistic model, thus the parameter estimates shown above,\n",
    "say for male gender, reflect the amount by which the log odds for smoking\n",
    "is greater when comparing a male to a female of the same age.  More specifically,\n",
    "in the\n",
    "context of dependent, or grouped data, as we have here, this parameter\n",
    "should be interpreted as reflecting the average difference of log odds\n",
    "for smoking when comparing a male to a female of the same age, irrespective\n",
    "of whether they are in the same or in different groups.  This follows\n",
    "from the fact that the mean structure estimated by a GEE is \"marginal\".\n",
    "A related but different regression technique is \"multilevel modeling\",\n",
    "in which case\n",
    "this parameter should be interpreted as reflecting the contrast between\n",
    "a male and a female of the same age, who also fall into the same group.\n",
    "\n",
    "As discussed above in the linear mean structure example, including\n",
    "more covariates will generally reduce the ICC, but usually not to the point\n",
    "where it is negligible."
   ]
  },
  {
   "cell_type": "code",
   "execution_count": 14,
   "metadata": {},
   "outputs": [
    {
     "name": "stdout",
     "output_type": "stream",
     "text": [
      "                               GEE Regression Results                              \n",
      "===================================================================================\n",
      "Dep. Variable:                       Smoke   No. Observations:                 4496\n",
      "Model:                                 GEE   No. clusters:                       30\n",
      "Method:                        Generalized   Min. cluster size:                  93\n",
      "                      Estimating Equations   Max. cluster size:                 210\n",
      "Family:                           Binomial   Mean cluster size:               149.9\n",
      "Dependence structure:         Exchangeable   Num. iterations:                     9\n",
      "Date:                     Tue, 05 Feb 2019   Scale:                           1.000\n",
      "Covariance type:                    robust   Time:                         21:02:59\n",
      "=================================================================================================\n",
      "                                    coef    std err          z      P>|z|      [0.025      0.975]\n",
      "-------------------------------------------------------------------------------------------------\n",
      "Intercept                        -1.6907      0.124    -13.625      0.000      -1.934      -1.448\n",
      "RIAGENDRx[T.Male]                 0.8729      0.071     12.348      0.000       0.734       1.011\n",
      "RIDRETH1x[T.NonHispanicBlack]     0.1704      0.128      1.327      0.185      -0.081       0.422\n",
      "RIDRETH1x[T.NonHispanicWhite]     0.4128      0.111      3.718      0.000       0.195       0.630\n",
      "RIDRETH1x[T.Other]               -0.2861      0.175     -1.637      0.102      -0.629       0.056\n",
      "RIDRETH1x[T.OtherHispanic]        0.1439      0.136      1.057      0.290      -0.123       0.411\n",
      "RIDAGEYR                          0.0158      0.002      9.506      0.000       0.013       0.019\n",
      "==============================================================================\n",
      "Skew:                          0.2741   Kurtosis:                      -1.6094\n",
      "Centered skew:                 0.2543   Centered kurtosis:             -1.5233\n",
      "==============================================================================\n",
      "The correlation between two observations in the same cluster is 0.014\n"
     ]
    }
   ],
   "source": [
    "model = sm.GEE.from_formula(\"Smoke ~ RIDAGEYR + RIAGENDRx + RIDRETH1x\",\n",
    "                            groups=\"group\",\n",
    "                            family=sm.families.Binomial(),\n",
    "                            cov_struct=sm.cov_struct.Exchangeable(), data=dx)\n",
    "result = model.fit()\n",
    "print(result.summary())\n",
    "print(result.cov_struct.summary())"
   ]
  },
  {
   "cell_type": "markdown",
   "metadata": {},
   "source": [
    "In order to show that the ICC's we obtaining here are not artifacts, below\n",
    "we generate a completely random grouping variable with the same number of\n",
    "levels as the actual grouping variable, and show the estimated\n",
    "ICC values that are obtained."
   ]
  },
  {
   "cell_type": "code",
   "execution_count": 15,
   "metadata": {},
   "outputs": [
    {
     "name": "stdout",
     "output_type": "stream",
     "text": [
      "The correlation between two observations in the same cluster is 0.003\n"
     ]
    },
    {
     "name": "stdout",
     "output_type": "stream",
     "text": [
      "The correlation between two observations in the same cluster is -0.002\n"
     ]
    },
    {
     "name": "stdout",
     "output_type": "stream",
     "text": [
      "The correlation between two observations in the same cluster is 0.001\n",
      "The correlation between two observations in the same cluster is -0.001\n"
     ]
    },
    {
     "name": "stdout",
     "output_type": "stream",
     "text": [
      "The correlation between two observations in the same cluster is -0.001\n"
     ]
    },
    {
     "name": "stdout",
     "output_type": "stream",
     "text": [
      "The correlation between two observations in the same cluster is 0.001\n",
      "The correlation between two observations in the same cluster is 0.000\n"
     ]
    },
    {
     "name": "stdout",
     "output_type": "stream",
     "text": [
      "The correlation between two observations in the same cluster is 0.000\n"
     ]
    },
    {
     "name": "stdout",
     "output_type": "stream",
     "text": [
      "The correlation between two observations in the same cluster is -0.000\n",
      "The correlation between two observations in the same cluster is 0.004\n"
     ]
    }
   ],
   "source": [
    "for k in range(10):\n",
    "    dx[\"group2\"] = np.random.randint(0, 30, dx.shape[0])\n",
    "    model = sm.GEE.from_formula(\"Smoke ~ RIDAGEYR + RIAGENDRx\",\n",
    "                                groups=\"group2\",\n",
    "                                family=sm.families.Binomial(),\n",
    "                                cov_struct=sm.cov_struct.Exchangeable(), data=dx)\n",
    "    result = model.fit()\n",
    "    print(result.cov_struct.summary())"
   ]
  },
  {
   "cell_type": "markdown",
   "metadata": {},
   "source": [
    "## Subject-level repeated measures\n",
    "\n",
    "Above we considered dependence that resulted from cluster sampling.  Another\n",
    "common reason that dependence occurs is having repeated measures on individuals.\n",
    "This happens, for example, in a longitudinal study, where variables of interest\n",
    "are measured on individuals repeatedly over time.  Since NHANES is a cross-sectional\n",
    "study, there are no repeated longitudinal measures.  However, there are repeated\n",
    "measures of the blood pressure variables (systolic and diastolic blood pressure).\n",
    "Each of these variables is measured on every subject 2-4 times in short succession.\n",
    "The reason that this is done is that blood pressure can be quite variable, and\n",
    "in particular can be high on an initial measurement due to subjects being\n",
    "anxious.  Thus\n",
    "the second and subsequent blood pressure measurements tend to be slightly\n",
    "lower than the first.\n",
    "\n",
    "First we need to do some data management.  The NHANES file that we are working with\n",
    "is in \"wide form\" (one row\n",
    "per subject), but for this analysis we need one row per blood pressure\n",
    "observation.  The Pandas `melt` method with some subsequent cleanup accomplishes\n",
    "this data restructuring."
   ]
  },
  {
   "cell_type": "code",
   "execution_count": 16,
   "metadata": {},
   "outputs": [],
   "source": [
    "idv = (\"SEQN\", \"BMXBMI\", \"SDMVSTRA\", \"SDMVPSU\", \"RIAGENDR\", \"RIDAGEYR\", \"RIDRETH1\")\n",
    "dx = pd.melt(da, id_vars=idv, value_vars=(\"BPXSY1\", \"BPXSY2\"),\n",
    "             var_name=\"Time\", value_name=\"SBP\")\n",
    "dx[\"Time\"] = dx.Time.apply(lambda x : x.replace(\"BPXSY\", \"\"))\n",
    "dx = dx.sort_values(by=\"SEQN\")\n",
    "\n",
    "dx[\"RIAGENDRx\"] = dx.RIAGENDR.replace({1: \"Male\", 2: \"Female\"})\n",
    "\n",
    "dx[\"RIDRETH1x\"] = dx.RIDRETH1.replace({1: \"MexicanAmerican\", 2: \"OtherHispanic\",\n",
    "                   3: \"NonHispanicWhite\", 4: \"NonHispanicBlack\", 5: \"Other\"})"
   ]
  },
  {
   "cell_type": "markdown",
   "metadata": {},
   "source": [
    "Next we fit a GEE with linear mean structure to the systolic blood\n",
    "pressure values (two observations per subject).  The exchangeable\n",
    "correlation structure allows us to estimate the ICC (i.e. how\n",
    "correlated are the two repeated observations within a subject).  Note\n",
    "that we are now ignoring the correlations induced by the survey structure."
   ]
  },
  {
   "cell_type": "code",
   "execution_count": 17,
   "metadata": {},
   "outputs": [
    {
     "name": "stdout",
     "output_type": "stream",
     "text": [
      "                               GEE Regression Results                              \n",
      "===================================================================================\n",
      "Dep. Variable:                         SBP   No. Observations:                 8998\n",
      "Model:                                 GEE   No. clusters:                     4499\n",
      "Method:                        Generalized   Min. cluster size:                   2\n",
      "                      Estimating Equations   Max. cluster size:                   2\n",
      "Family:                           Gaussian   Mean cluster size:                 2.0\n",
      "Dependence structure:         Exchangeable   Num. iterations:                     2\n",
      "Date:                     Tue, 05 Feb 2019   Scale:                         252.205\n",
      "Covariance type:                    robust   Time:                         21:03:03\n",
      "=================================================================================================\n",
      "                                    coef    std err          z      P>|z|      [0.025      0.975]\n",
      "-------------------------------------------------------------------------------------------------\n",
      "Intercept                       106.4096      0.722    147.362      0.000     104.994     107.825\n",
      "RIAGENDRx[T.Male]                10.4795      0.798     13.140      0.000       8.916      12.043\n",
      "RIDRETH1x[T.NonHispanicBlack]     3.7896      0.766      4.945      0.000       2.288       5.292\n",
      "RIDRETH1x[T.NonHispanicWhite]    -2.4811      0.649     -3.824      0.000      -3.753      -1.209\n",
      "RIDRETH1x[T.Other]               -1.7459      0.790     -2.209      0.027      -3.295      -0.197\n",
      "RIDRETH1x[T.OtherHispanic]       -0.2426      0.810     -0.299      0.765      -1.831       1.346\n",
      "Time[T.2]                        -0.7086      0.076     -9.370      0.000      -0.857      -0.560\n",
      "RIDAGEYRm18                       0.5658      0.019     29.338      0.000       0.528       0.604\n",
      "RIDAGEYRm18:RIAGENDRx[T.Male]    -0.2210      0.027     -8.038      0.000      -0.275      -0.167\n",
      "==============================================================================\n",
      "Skew:                          0.8057   Kurtosis:                       2.2353\n",
      "Centered skew:                -0.0000   Centered kurtosis:              1.8996\n",
      "==============================================================================\n",
      "The correlation between two observations in the same cluster is 0.950\n"
     ]
    }
   ],
   "source": [
    "dx[\"RIDAGEYRm18\"] = dx.RIDAGEYR - 18\n",
    "\n",
    "model = sm.GEE.from_formula(\"SBP ~ RIDAGEYRm18 * RIAGENDRx + RIDRETH1x + Time\",\n",
    "                            cov_struct=sm.cov_struct.Exchangeable(),\n",
    "                            groups=\"SEQN\", data=dx)\n",
    "result = model.fit()\n",
    "print(result.summary())\n",
    "print(result.cov_struct.summary())"
   ]
  },
  {
   "cell_type": "markdown",
   "metadata": {},
   "source": [
    "It is also possible to have multiple levels of grouping structure in a GEE.\n",
    "Here, we have two repeated measures clustered within each individual, and the\n",
    "individuals are in turn clustered within the survey groups.  We can use a\n",
    "`Nested` dependence structure to capture both levels of correlation.\n",
    "\n",
    "(if there are warnings below they can be ignored, these are fixed in the latest\n",
    "Statsmodels version)"
   ]
  },
  {
   "cell_type": "code",
   "execution_count": 18,
   "metadata": {},
   "outputs": [
    {
     "name": "stderr",
     "output_type": "stream",
     "text": [
      "/nfs/kshedden/Envs/py3/lib/python3.5/site-packages/statsmodels/genmod/cov_struct.py:399: FutureWarning: Using a non-tuple sequence for multidimensional indexing is deprecated; use `arr[tuple(seq)]` instead of `arr[seq]`. In the future this will be interpreted as an array index, `arr[np.array(seq)]`, which will result either in an error or a different result.\n",
      "  ilabel[[ix1, ix2]] = ncm + 1\n",
      "/nfs/kshedden/Envs/py3/lib/python3.5/site-packages/statsmodels/genmod/cov_struct.py:400: FutureWarning: Using a non-tuple sequence for multidimensional indexing is deprecated; use `arr[tuple(seq)]` instead of `arr[seq]`. In the future this will be interpreted as an array index, `arr[np.array(seq)]`, which will result either in an error or a different result.\n",
      "  ilabel[[ix2, ix1]] = ncm + 1\n"
     ]
    },
    {
     "name": "stdout",
     "output_type": "stream",
     "text": [
      "                               GEE Regression Results                              \n",
      "===================================================================================\n",
      "Dep. Variable:                         SBP   No. Observations:                 8998\n",
      "Model:                                 GEE   No. clusters:                       30\n",
      "Method:                        Generalized   Min. cluster size:                 186\n",
      "                      Estimating Equations   Max. cluster size:                 420\n",
      "Family:                           Gaussian   Mean cluster size:               299.9\n",
      "Dependence structure:               Nested   Num. iterations:                    10\n",
      "Date:                     Tue, 05 Feb 2019   Scale:                         252.417\n",
      "Covariance type:                    robust   Time:                         21:03:06\n",
      "=================================================================================================\n",
      "                                    coef    std err          z      P>|z|      [0.025      0.975]\n",
      "-------------------------------------------------------------------------------------------------\n",
      "Intercept                       106.2401      0.912    116.433      0.000     104.452     108.028\n",
      "RIAGENDRx[T.Male]                10.4493      0.622     16.809      0.000       9.231      11.668\n",
      "RIDRETH1x[T.NonHispanicBlack]     3.4551      0.965      3.579      0.000       1.563       5.347\n",
      "RIDRETH1x[T.NonHispanicWhite]    -2.6727      0.836     -3.197      0.001      -4.311      -1.034\n",
      "RIDRETH1x[T.Other]               -1.4358      0.862     -1.665      0.096      -3.126       0.254\n",
      "RIDRETH1x[T.OtherHispanic]       -0.9758      0.864     -1.129      0.259      -2.669       0.718\n",
      "RIDAGEYRm18                       0.5614      0.023     24.220      0.000       0.516       0.607\n",
      "RIDAGEYRm18:RIAGENDRx[T.Male]    -0.2202      0.020    -10.759      0.000      -0.260      -0.180\n",
      "==============================================================================\n",
      "Skew:                          0.8124   Kurtosis:                       2.2435\n",
      "Centered skew:                 0.8114   Centered kurtosis:              2.2105\n",
      "==============================================================================\n",
      "Variance estimates\n",
      "------------------\n",
      "Component 1: 3.094\n",
      "Component 2: 235.983\n",
      "Residual: 13.339\n",
      "\n"
     ]
    }
   ],
   "source": [
    "\n",
    "dx[\"group\"] = 10 * dx.SDMVSTRA + dx.SDMVPSU\n",
    "\n",
    "model = sm.GEE.from_formula(\"SBP ~ RIDAGEYRm18 * RIAGENDRx + RIDRETH1x\",\n",
    "                            dep_data=dx.SEQN,\n",
    "                            cov_struct=sm.cov_struct.Nested(),\n",
    "                            groups=\"group\", data=dx)\n",
    "result = model.fit()\n",
    "print(result.summary())\n",
    "print(result.cov_struct.summary())"
   ]
  },
  {
   "cell_type": "markdown",
   "metadata": {},
   "source": [
    "The fitted nested covariance structure is expressed in terms of the variance contributed\n",
    "by each level of nesting.  This corresponds to a \"variance components model\" of the form\n",
    "\n",
    "$$\n",
    "y_{ijkl} = a_i + b_{ij} + c_{ijk} + \\epsilon_{ijkl}\n",
    "$$\n",
    "\n",
    "Above, $a_i$, $b_{ij}$, $c_{ijk}$, and $\\epsilon_{ijkl}$ are all random with mean zero,\n",
    "and with variances $\\tau_a^2$, $\\tau_b^2$, $\\tau_c^2$, and $\\sigma^2$ respectively.\n",
    "\n",
    "## Simulation of data for GEE analysis\n",
    "\n",
    "Sometimes it is useful to apply a regression approach to simulated data.  This can be\n",
    "applied in power and sample size assessment, and in evaluating the performance of\n",
    "a statistical methodology.  Simulation of data for GEE regression presents a unique\n",
    "challenge because GEE is not based on a complete model for the data.  In a GEE, the mean structure\n",
    "is fully specified, and in most cases the marginal distribution of each observation\n",
    "is fully specified (however this is not true when using the quasi-likelihood familes).  The\n",
    "dependence structure is only specified through a working structure that does not need\n",
    "to be correct, and even if it is correct, it does not define the joint distribution of the\n",
    "data (except in very special cases like the Gaussian model).\n",
    "\n",
    "There are various ways to resolve this challenge.  Below we will demonstrate how a copula\n",
    "approach can be used to simulate data for a GEE analysis.  The basic idea is that if\n",
    "$u_1, u_2$ are two random variables that may be dependent, such that $u_1$ and $u_2$\n",
    "are both marginally uniformly distributed, then for any cumulative distribution\n",
    "functions $F_1$,\n",
    "$F_2$, the random variables $y_1 = F_1^{-1}(u_1)$ and $y_2 = F_2^{-1}(u_2)$ are distributed\n",
    "according to $F_1$ and $F_2$.  In a GEE, we know the marginal distributions (except\n",
    "in the quasi-likelihood case that we will not cover here), so $F_1$, etc. are always\n",
    "known.  Thus, we can induce dependence between $y_1$ and $y_2$ by simulating $u_1$\n",
    "and $u_2$ to be dependent and (marginally) uniform.  Note that this approach works\n",
    "for any dimension, we are only using two components here for illustration.\n",
    "\n",
    "One way to simulate dependent $u_j$ that are marginally uniform is to simulate\n",
    "dependent $z_j$ that are marginally standard Gaussian, then define $u_j = \\Phi^{-1}(z_j)$,\n",
    "where $\\Phi$ is the standard normal CDF.  This approach is flexible because it is\n",
    "easy to generate Gaussian random vectors with a variety of different covariance\n",
    "structures, such that the components are marginally standard normal. This is\n",
    "called the \"Gaussian copula\" and is used in the illustration below."
   ]
  },
  {
   "cell_type": "code",
   "execution_count": 19,
   "metadata": {},
   "outputs": [
    {
     "name": "stderr",
     "output_type": "stream",
     "text": [
      "/nfs/kshedden/Envs/py3/lib/python3.5/site-packages/pandas/core/dtypes/dtypes.py:271: FutureWarning: elementwise comparison failed; returning scalar instead, but in the future will perform elementwise comparison\n",
      "  if string == 'category':\n"
     ]
    },
    {
     "name": "stdout",
     "output_type": "stream",
     "text": [
      "                               GEE Regression Results                              \n",
      "===================================================================================\n",
      "Dep. Variable:                           y   No. Observations:                10000\n",
      "Model:                                 GEE   No. clusters:                     1000\n",
      "Method:                        Generalized   Min. cluster size:                  10\n",
      "                      Estimating Equations   Max. cluster size:                  10\n",
      "Family:                            Poisson   Mean cluster size:                10.0\n",
      "Dependence structure:           Stationary   Num. iterations:                    12\n",
      "Date:                     Tue, 05 Feb 2019   Scale:                           1.000\n",
      "Covariance type:                    robust   Time:                         21:03:16\n",
      "==============================================================================\n",
      "                 coef    std err          z      P>|z|      [0.025      0.975]\n",
      "------------------------------------------------------------------------------\n",
      "Intercept     -0.0060      0.018     -0.328      0.743      -0.042       0.030\n",
      "x1             0.9986      0.007    137.052      0.000       0.984       1.013\n",
      "x2            -0.5015      0.006    -81.370      0.000      -0.514      -0.489\n",
      "==============================================================================\n",
      "Skew:                          0.6880   Kurtosis:                       7.3185\n",
      "Centered skew:                 0.3394   Centered kurtosis:              6.9241\n",
      "==============================================================================\n",
      "('Stationary dependence parameters\\n', array([0.58238204, 0.39864942, 0.27537833, 0.19226422, 0.15687234]))\n"
     ]
    }
   ],
   "source": [
    "\n",
    "# Number of groups\n",
    "n = 1000\n",
    "\n",
    "# Number of observations per group\n",
    "q = 10\n",
    "\n",
    "# The autocorrelation in the Gaussian copula\n",
    "a = 0.7\n",
    "\n",
    "from scipy.stats.distributions import poisson, norm\n",
    "\n",
    "# The latent variables in the Gaussian copula\n",
    "z = np.random.normal(size=(n, q))\n",
    "for j in range(1, q):\n",
    "    z[:, j] = a*z[:, j-1] + np.sqrt(1 - a**2)*z[:, j]\n",
    "u = norm.cdf(z)\n",
    "\n",
    "# The covariates\n",
    "x1 = np.random.normal(size=(n, q))\n",
    "x2 = np.random.normal(size=(n, q))\n",
    "\n",
    "# The mean parameters for the marginal distributions\n",
    "lpr = x1 - 0.5*x2\n",
    "expval = np.exp(lpr)\n",
    "\n",
    "# The response values.  These are marginally Poisson with the specified means.\n",
    "y = np.zeros((n, q))\n",
    "for i in range(n):\n",
    "    for j in range(q):\n",
    "        y[i, j] = poisson.ppf(u[i, j], expval[i, j])\n",
    "\n",
    "idv = np.outer(np.arange(n), np.ones(q))\n",
    "time = np.outer(np.ones(n), np.arange(q))\n",
    "\n",
    "df = pd.DataFrame({\"y\": y.flat, \"x1\": x1.flat, \"x2\": x2.flat,\n",
    "                   \"grp\": idv.flat, \"time\":time.flat})\n",
    "\n",
    "model = sm.GEE.from_formula(\"y ~ x1 + x2\", groups=\"grp\",\n",
    "           family=sm.families.Poisson(),\n",
    "           time=df.time,\n",
    "           cov_struct=sm.cov_struct.Stationary(max_lag=5),\n",
    "           data=df)\n",
    "result = model.fit()\n",
    "\n",
    "print(result.summary())\n",
    "print(result.cov_struct.summary())"
   ]
  },
  {
   "cell_type": "markdown",
   "metadata": {},
   "source": [
    "## Other applications of GEE\n",
    "\n",
    "Here we have shown how GEE can be used with grouped data, including multilevel (nested) grouped\n",
    "data.  We have also seen an application involving data that were simulated as a time series.\n",
    "GEE is widely used for grouped data, longitudinal data, time series, and spatial data.\n",
    "In principle, covariance structures can be defined for most applications involving\n",
    "dependent data.  However in practice most people use the familiar dependence structures\n",
    "illustrated here."
   ]
  }
 ],
 "metadata": {},
 "nbformat": 4,
 "nbformat_minor": 1
}
