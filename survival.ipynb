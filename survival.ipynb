{
 "cells": [
  {
   "cell_type": "markdown",
   "metadata": {},
   "source": [
    "# Survival Analysis in Python Statsmodels\n",
    "\n",
    "Source code for statsmodels survival methods:\n",
    "\n",
    "https://github.com/statsmodels/statsmodels/tree/master/statsmodels/duration\n",
    "\n",
    "## Introduction\n",
    "\n",
    "[Survival analysis](https://en.wikipedia.org/wiki/Survival_analysis)\n",
    "is used to analyze data in which the primary variable of interest is a\n",
    "time duration.  Some examples of duration data that can be analyzed using\n",
    "methods from survival analysis are:\n",
    "\n",
    "* A person's lifespan\n",
    "\n",
    "* The duration that a person survives after being diagnosed with a\n",
    "serious disease\n",
    "\n",
    "* The time from the diagnosis of a disease until the\n",
    "person recovers\n",
    "\n",
    "* The duration of time that a piece of machinery remains in good working order\n",
    "\n",
    "* The time after a person looses a job until they find a new job\n",
    "\n",
    "* The time after a person is released from prison until they are arrested again\n",
    "\n",
    "Duration data can be used to answer questions such as:\n",
    "\n",
    "* What is the mean duration for a population?\n",
    "\n",
    "* What is the 75th percentile of the durations in a population?\n",
    "\n",
    "* When comparing two populations, which has the shorter expected or median duration?\n",
    "\n",
    "* Is a given predictor variable associated with a duration outcome?\n",
    "\n",
    "Here are some key concepts in duration analysis:\n",
    "\n",
    "* __Time origin__: The durations of interest correspond to time\n",
    "  intervals that begin and end when something specific happens.  It is\n",
    "  important to be very explicit about what defines the time origin\n",
    "  (time zero) from which the duration is calculated.  For example,\n",
    "  when looking at the survival duration of people with a disease, the time\n",
    "  origin could be the date of diagnosis.  When looking at human\n",
    "  lifespans (\"all cause mortality\") it might make sense to define\n",
    "  the time origin to be the date of birth.\n",
    "\n",
    "* __Event__: This term refers to whatever happens that concludes the\n",
    "  time interval of interest.  It may be death, or some other type of\n",
    "  \"failure\", or it may be something more favorable, like recovery or\n",
    "  cure from a disease.  Most survival analysis is based on the idea\n",
    "  that every subject will eventually experience the event.\n",
    "\n",
    "* __Survival time distribution__: This is a marginal distribution\n",
    "  defining the proportion of the population that has experienced the\n",
    "  event on or before time T.  Usually it is expressed as the\n",
    "  complementary \"survival function\" (e.g. the proportion of people who\n",
    "  have not yet died as of time T).\n",
    "\n",
    "* __Censoring__: Censoring occurs when we do not observe when a\n",
    "  subject experiences the event of interest, but we do have some\n",
    "  partial information about that time.  The most common form of\n",
    "  censoring is _right censoring_, in which we observe a time T such\n",
    "  that we know the event did not occur prior to time T.  Other forms\n",
    "  of censoring are _interval censoring_ and _left censoring_.\n",
    "\n",
    "* __Risk set__: This is the set of units (e.g. people) in a sample at\n",
    "  a given time who may possibly experience the event at that time.  It\n",
    "  is usually the set of people who have not already experienced the\n",
    "  event and who have not been censored (but the risk set may be only a\n",
    "  subset of these people when using \"entry times\").\n",
    "\n",
    "* __Hazard__: This is the probability of experiencing the event in the\n",
    "  next time unit, given that it has not already occurred (technically,\n",
    "  this is the discrete time definition of the hazard, the continuous\n",
    "  time definition involves rates but follows the same logic).\n",
    "\n",
    "\n",
    "Marginal survival function and hazard estimation\n",
    "------------------------------------------------\n",
    "\n",
    "The *marginal survival function* is a function $S(t)$ that returns\n",
    "the probability that a randomly-selected member member of the population\n",
    "experiences the event after time $t$ (equivalently, that they have not\n",
    "experienced the event as of time $t$).\n",
    "\n",
    "If there is no censoring, the marginal survival function can be\n",
    "estimated using the complement of the empirical [cumulative\n",
    "distribution\n",
    "function](https://en.wikipedia.org/wiki/Cumulative_distribution_function)\n",
    "of the data.  If there is censoring, the standard method for\n",
    "estimating the survival function is the product-limit estimator or\n",
    "[Kaplan Meier\n",
    "estimator](https://en.wikipedia.org/wiki/Kaplan%E2%80%93Meier_estimator).\n",
    "\n",
    "The idea behind the Kaplan-Meier estimate is not difficult.  Group the\n",
    "data by the distinct times $t_1 < t_2 < \\ldots$ (times here can be either\n",
    "event times or censoring times), let $R(t)$ denote the risk set size\n",
    "at time $t$, and let $d(t)$ indicate the number of events at time t (if\n",
    "there are no ties, $d(t)$ will always be equal to either 0 or 1).  The\n",
    "probability of the event occurring at time $t$ (given that it has not\n",
    "occurred already) is estimated to be $d(t)/R(t)$.  The probability of\n",
    "the event not occurring at time $t$ is therefore estimated to be $1 -\n",
    "d(t)/R(t)$.  Finally, the probability of making it to time $t_k$ without\n",
    "experiencing the event is estimated to be\n",
    "\n",
    "$$\n",
    "(1 - d(t_1)/R(t_1)) \\cdot (1 - d(t_2)/R(t_2)) \\cdots (1 - d(t_k)/R(t_k)).\n",
    "$$\n",
    "\n",
    "A consequence of this definition is that the estimated survival\n",
    "function obtained using the product-limit method is a step function\n",
    "with steps at the event times.\n",
    "\n",
    "A closely related\n",
    "[calculation](https://en.wikipedia.org/wiki/Nelson%E2%80%93Aalen_estimator)\n",
    "estimates the cumulative marginal hazard function\n",
    "\n",
    "$$\n",
    "H(T) = \\int_0^T h(t)dt,\n",
    "$$\n",
    "\n",
    "where $h(t)$ is the marginal hazard function.  To estimate the hazard function\n",
    "itself, we first estimate the cumulative hazard function, then differentiate\n",
    "it to obtain an estimate of the hazard function.  Some smoothing and interpolation\n",
    "is needed to estimate the derivative a function that is estimated with a\n",
    "(non-differentiable) step function.  We do not cover these details here, but\n",
    "some examples of how this may be done are shown below.\n",
    "\n",
    "In Statsmodel, the code `sm.SurvfuncRight(time, status)` estimates the marginal\n",
    "survival function using the product-limit estimator.  In this\n",
    "function call, `time` is a duration of time, either to the event\n",
    "of interest (if `status=1`) or to the last time when the event\n",
    "was known not to have occurred (if `status=0`).\n",
    "\n",
    "Survival and hazard functions are usually presented as plots, often\n",
    "by overlaying survival or hazard functions for several groups\n",
    "of subjects on the same\n",
    "axes. The code below estimates the marginal survival functions for two\n",
    "groups and overlays the estimates in a plot:"
   ]
  },
  {
   "cell_type": "markdown",
   "metadata": {},
   "source": [
    "```\n",
    "sf1 = sm.SurvfuncRight(time1, died1)\n",
    "sf2 = sm.SurvfuncRight(time2, died2)\n",
    "\n",
    "ax = plt.axes()\n",
    "sf1.plot(ax)\n",
    "sf2.plot(ax)\n",
    "```\n"
   ]
  },
  {
   "cell_type": "markdown",
   "metadata": {},
   "source": [
    "## Regression analysis for survival/duration data\n",
    "\n",
    "Regression analysis is used to understand how one or more factors of\n",
    "interest are related to an \"outcome\" variable.  If the\n",
    "outcome variable is a duration, we are doing *survival regression*.\n",
    "\n",
    "By direct analogy with linear regression, we might seek to model the\n",
    "expected survival time as a function of covariates.  If there is no\n",
    "censoring, we could, for example, use least squares regression to\n",
    "relate the survival time $T$, or a transformation of it (e.g. $\\log(T)$)\n",
    "to a linear function of the covariates, i.e.\n",
    "\n",
    "\n",
    "$$\n",
    "E[\\log T | x] = b_0 + b_1 x_1 + \\cdots b_p x_p.\n",
    "$$\n",
    "\n",
    "While this is sometimes done, it is more common to approach regression\n",
    "for duration data by modeling\n",
    "the hazards rather than by directly modeling the duration.\n",
    "\n",
    "As noted above, the hazard is the conditional probability of experiencing the event of\n",
    "interest at time $T$, given that it has not yet occurred.  For example,\n",
    "in a medical study this may be the probability of a subject dying at\n",
    "time $T$ given that the subject was still alive just before time $T$ (in\n",
    "continuous time we would substitute \"rate\" for \"probability\" but we\n",
    "ignore this distinction here).\n",
    "\n",
    "In survival regression, we view the hazard as a function that is\n",
    "determined by the covariates.  For example, the hazard may be\n",
    "determined by age and gender.  A very popular form of hazard\n",
    "regression models the conditional hazards as multiples of\n",
    "a shared *baseline hazard function*, specifically\n",
    "\n",
    "$$\n",
    "h(t, x) = b(t) \\cdot \\exp(b_1 \\cdot x_1 + \\ldots + b_p \\cdot x_p),\n",
    "$$\n",
    "\n",
    "where $b(t)$ is the \"baseline hazard function\", the scalars\n",
    "$b_0, \\ldots, b_p$\n",
    "are unknown regression coefficients, and the $x_j$ are the observed\n",
    "covariates for one subject.  Note that there is no intercept term\n",
    "($b_0$) in the linear predictor, since it could be factored out\n",
    "as a factor of $\\exp(b_0)$ and absorbed into the baseline hazard\n",
    "function $b(t)$.\n",
    "\n",
    "This model can also be written in log\n",
    "form\n",
    "\n",
    "$$\n",
    "\\log h(t, x) = \\log b(t) + b^\\prime x\n",
    "$$\n",
    "\n",
    "where $b = (b_0, \\ldots, b_p)$, $x = (1, x_1, \\ldots, x_p)$.\n",
    "Thus, the log hazard\n",
    "is modeled as a time-varying intercept plus a linear predictor that is\n",
    "not time varying (there are generalizations of this model\n",
    "in which the linear\n",
    "predictor is also time-varying).\n",
    "\n",
    "This regression model is called [proportional hazards\n",
    "regression](https://en.wikipedia.org/wiki/Proportional_hazards_model)\n",
    "or the \"Cox model\".  A key feature of this model is that it is\n",
    "possible to estimate the coefficients $b_j$ using a partial likelihood\n",
    "that does not involve the baseline hazard function.  This makes the\n",
    "procedure \"semi-parametric\".\n",
    "\n",
    "The key point to remember about interpreting this model is that a\n",
    "coefficient $b_j$, for a covariate, say age, has the property that the\n",
    "hazard of the outcome event (e.g. of dying) changes multiplicatively by a factor of $\\exp(b_j)$\n",
    "for each unit increase in the value of the covariate $x_j$.\n",
    "\n",
    "The following code fits a proportional hazards regression model in\n",
    "Statsmodels with no censoring:"
   ]
  },
  {
   "cell_type": "markdown",
   "metadata": {},
   "source": [
    "```\n",
    "model = sm.PHReg.from_formula(\"time ~ disease + gender + age\",\n",
    "              data=df)\n",
    "result = model.fit()\n",
    "```\n"
   ]
  },
  {
   "cell_type": "markdown",
   "metadata": {},
   "source": [
    "After fitting the model, `result.summary()` prints the usual table of\n",
    "regression coefficients and standard errors.\n",
    "\n",
    "__More advanced topics in proportional hazards regression:__\n",
    "\n",
    "* Proportional hazards regression models allow the data to be\n",
    "  stratified.  Stratifiation is a partitioning of the data into\n",
    "  groups.  When estimating the coefficients, individuals are only\n",
    "  compared to other people in the same group.  This means that the\n",
    "  results are unaffected by confounding factors that are stable within\n",
    "  groups.  It is common to use stratification as a proxy for\n",
    "  difficult-to-measure confounders.  For example, in social research the\n",
    "  geographic location of a person's residence may be used to define\n",
    "  strata.\n",
    "\n",
    "* In many settings, we do not observe every subject starting from their time\n",
    "  origin.  If we begin monitoring a subject at a time t, then they\n",
    "  could not have been observed to have the event before that time.\n",
    "  For that reason, the subject should be removed from the risk set for\n",
    "  all times prior to t.  This can be accomplished by specifying t as\n",
    "  an _entry time_.\n",
    "\n",
    "* Survival regression can use weights to project results from a sample\n",
    "  to a population that differs from the population the data were\n",
    "  sampled from.\n",
    "\n",
    "## More on censoring\n",
    "\n",
    "A large part of survival analysis is concerned with appropriately\n",
    "handling censoring (if there is no censoring, it is generally possible\n",
    "to analyze the log durations using standard, non-survival methods).\n",
    "Censoring can be a subtle topic.  All survival methods have\n",
    "limitations on the type of censoring they can handle, and it is not\n",
    "always easy or even possible to determine in a given setting whether a\n",
    "survival method can accommodate the type of censoring that is present.\n",
    "\n",
    "To make things more concrete, we usually imagine that every subject\n",
    "has both an event time $T$ and a censoring time $C$.  That is, every\n",
    "subject would eventually experience the event (if there were no\n",
    "censoring), and would eventually be censored (if the event did not\n",
    "happen).  We observe ${\\rm min}(T, C)$, and a *survival status*\n",
    "indicator of whether the event occured\n",
    "occured (i.e. that ${\\rm min}(T, C)$ is equal to $T$).\n",
    "\n",
    "The key requirement for most surival methods is that we have\n",
    "\"independent censoring\", meaning that $T$ and $C$ are statistically\n",
    "independent quantities.  Since we never observe both $T$ and $C$ for the\n",
    "same person, it is usually not possible to directly assess whether $T$\n",
    "and $C$ are dependent.  However knowledge about the data collection\n",
    "process is often used to assess whether independent censoring is\n",
    "plausible to hold.\n",
    "\n",
    "For example, one type of censoring that is quite common is\n",
    "\"administrative censoring\".  This occurs when a study has a fixed data\n",
    "collection window, say a thee year interval from January 1, 2012 to\n",
    "January 1, 2015.  Suppose that people are randomly recruited into the\n",
    "study, and if the event has not occured by January 1, 2015, the\n",
    "subject is censored.  Thus, subjects who are recruited into the study\n",
    "later are more likely to be censored.  As long as the reruitment date\n",
    "is not dependent with the true survival time, $T$ and $C$ are independent.\n",
    "However we can imagine a setting when administrative censoring may\n",
    "induce dependence, e.g. if the subjects recruited later in the study\n",
    "were healthier than those recruited earlier.  But in many situations,\n",
    "this can be excluded as a likely circumstance based on knowledge of\n",
    "how the study was conducted.\n",
    "\n",
    "On the other hand, in some cases there is strong reason to believe\n",
    "that subjects are more likely to be censored as they grow sicker,\n",
    "which may mean that $T$ and $C$ are positively dependent.  For example, if\n",
    "we have medical study in which the data come from insurance records,\n",
    "as people get sicker they are more likely to become unable to work,\n",
    "and may have to quit their job (leading to them being censored).\n",
    "Similarly, as people age they may retire or become eligible for\n",
    "Medicare, leading to age-dependent censoring.  Since age is likely\n",
    "correlated with survival time, this could also induce dependent\n",
    "censoring.\n",
    "\n",
    "One remedy for dependent censoring is to identify covariates such that\n",
    "$T$ and $C$ become independent after conditioning on the covariates.  For\n",
    "example, age or a measure of overall health may be sufficient to\n",
    "substantially reduce the dependence between $T$ and $C$.\n",
    "\n",
    "## Case study using the birth and death dates of notable people\n",
    "\n",
    "Next we will apply the methods discussed above to a large dataset containing\n",
    "the birth and death dates of notable people.  The data are available\n",
    "[here](http://science.sciencemag.org/content/suppl/2014/07/30/345.6196.558.DC1).\n",
    "\n",
    "This data set contains the birth year and death year for over 120,000\n",
    "\"notable people\".  This population roughly corresponds to people about\n",
    "whom Wikipedia articles have been written.  The data set also includes\n",
    "information about the location where each person was born and died,\n",
    "but we will not use that information here.\n",
    "\n",
    "First we import the libraries that we will be using"
   ]
  },
  {
   "cell_type": "code",
   "execution_count": null,
   "metadata": {},
   "outputs": [],
   "source": [
    "%matplotlib inline\n",
    "import pandas as pd\n",
    "import numpy as np\n",
    "import seaborn as sns\n",
    "import statsmodels.api as sm\n",
    "import matplotlib.pyplot as plt\n",
    "import os"
   ]
  },
  {
   "cell_type": "markdown",
   "metadata": {},
   "source": [
    "The data are provided in Excel format, so we next use Pandas to\n",
    "convert the Excel file to a text/csv file.\n",
    "We also drop several columns that we will not be using.\n",
    "\n",
    "The notebook cell below only needs to\n",
    "run once.  To run the cell one time, chance the `False` value in the `if`\n",
    "statement to a `True`, then after running the cell\n",
    "change the value back to `False` to\n",
    "prevent the cell from running again.  Note that you will also need to change\n",
    "the file path to point to the location where you have put the Excel sheet in\n",
    "your file system."
   ]
  },
  {
   "cell_type": "code",
   "execution_count": null,
   "metadata": {},
   "outputs": [],
   "source": [
    "if False:\n",
    "    # Change the path to point to the data file\n",
    "    df = pd.read_excel(\"/nfs/kshedden/Schich/SchichDataS1_FB.xlsx\")\n",
    "    df = df[[\"PrsLabel\", \"BYear\", \"DYear\", \"Gender\"]]\n",
    "    df.to_csv(\"schich.csv.gz\", index=None, compression=\"gzip\")"
   ]
  },
  {
   "cell_type": "markdown",
   "metadata": {},
   "source": [
    "Now we can read the data file.  As usual, it is a good idea to check the shape\n",
    "(dimention) of the data, to confirm that the types are appropriate, and to\n",
    "inspect the first few rows of data."
   ]
  },
  {
   "cell_type": "code",
   "execution_count": null,
   "metadata": {},
   "outputs": [],
   "source": [
    "df = pd.read_csv(\"schich.csv.gz\")\n",
    "print(df.shape)\n",
    "print(df.dtypes)\n",
    "df.head()"
   ]
  },
  {
   "cell_type": "markdown",
   "metadata": {},
   "source": [
    "To work with survival analysis methods, we need a duration variable\n",
    "and a \"censoring status variable\".  The\n",
    "natural choice here is to define the duration as a person's life span.\n",
    "\n",
    "The convention used in Statsmodels for the \"censoring status variable\"\n",
    "is that the status is 1 if the person experiences the event at the end\n",
    "of their recorded\n",
    "duration, and the status is 0 if the person is censored at their recorded\n",
    "duration.  This dataset does not include records for people who have\n",
    "not died, so our status variable is identically 1."
   ]
  },
  {
   "cell_type": "code",
   "execution_count": null,
   "metadata": {},
   "outputs": [],
   "source": [
    "df[\"status\"] = 1"
   ]
  },
  {
   "cell_type": "markdown",
   "metadata": {},
   "source": [
    "Note that in most\n",
    "cases, a data set that excludes people who have not experienced the\n",
    "event of interest (i.e. death) yields biased\n",
    "results under survival analysis.  However in this example, the overall\n",
    "time span\n",
    "of the data is very large (thousands of years), so a relatively small\n",
    "fraction of the population has been omitted due to still being alive.\n",
    "The bias is therefore likely to be small.\n",
    "\n",
    "Now we can construct our duration variable, and make a histogram\n",
    "of its distribution.  Note that in general this histogram\n",
    "would be influenced by\n",
    "deaths as well as by censoring, so is not something that would\n",
    "normally be presented as part of the results of the analysis.\n",
    "However it is a useful summary to use for initial data checking."
   ]
  },
  {
   "cell_type": "code",
   "execution_count": null,
   "metadata": {},
   "outputs": [],
   "source": [
    "df[\"lifespan\"] = df.DYear - df.BYear\n",
    "\n",
    "df = df.loc[df.lifespan > 0, :]\n",
    "sns.distplot(df.lifespan)"
   ]
  },
  {
   "cell_type": "markdown",
   "metadata": {},
   "source": [
    "Above we defined the key concept of a marginal survival function, and discussed how it can\n",
    "be estimated.  Next, we estimate the marginal survival functions for females and for males.\n",
    "\n",
    "The graph below shows that the curve for men is higher than the curve for women up to around age 60, but\n",
    "after this point, the curves cross.  One possible explanation for this could be that\n",
    "this population has a somewhat larger number of women who die young compared to men\n",
    "who die young.  But once we move to the subpopulation of people who survive to age\n",
    "60, women tend to live longer than men."
   ]
  },
  {
   "cell_type": "code",
   "execution_count": null,
   "metadata": {},
   "outputs": [],
   "source": [
    "ax = plt.gca()\n",
    "plt.grid(True)\n",
    "plt.xlabel(\"Age (years)\", size=15)\n",
    "plt.ylabel(\"Proportion\", size=15)\n",
    "for sex in \"Female\", \"Male\":\n",
    "    dx = df.loc[df.Gender == sex, :]\n",
    "    s = sm.SurvfuncRight(dx.lifespan, dx.status, title=sex)\n",
    "    s.plot(ax=ax)\n",
    "\n",
    "# Create a legend\n",
    "ha, lb = ax.get_legend_handles_labels()\n",
    "ha = [ha[0], ha[2]] # Optional, hide points from legend\n",
    "lb = [lb[0], lb[2]]\n",
    "leg = plt.figlegend(ha, lb, loc=\"upper center\", ncol=2)\n",
    "leg.draw_frame(False)"
   ]
  },
  {
   "cell_type": "markdown",
   "metadata": {},
   "source": [
    "The marginal hazard function mathematically contains the same information as the marginal\n",
    "survival function.  But the information in a hazard function\n",
    "is represented and interpreted in a very different\n",
    "way.  If $S(t)$ is the survival function, the hazard function is $h(t) = -S^\\prime(t)/S(t)$.\n",
    "Statsmodels does not have a function for directly constructing the hazard estimate,\n",
    "so we include that below.\n",
    "\n",
    "The hazard function estimates shown below suggest a substantial gap between the hazards\n",
    "of dying for women and men up to around age 20, with women having greater hazard\n",
    "(greater probability of death) for these ages.  The gap narrows until the hazards\n",
    "cross at around age 45.  This crossing could be due to women dying in childbirth, although\n",
    "selection bias due to gender differences in who is considered \"notable\" is also a possibility.\n",
    "It is not surprising that older men have greater hazards than older women, since women\n",
    "tend to live longer than men in most human populations."
   ]
  },
  {
   "cell_type": "code",
   "execution_count": null,
   "metadata": {},
   "outputs": [],
   "source": [
    "# The hazard function is the derivative of the cumulative hazard function.\n",
    "def hazard(sf):\n",
    "    tm = s.surv_times\n",
    "    pr = s.surv_prob\n",
    "    ii = (pr > 0)\n",
    "    tm = tm[ii]\n",
    "    pr = pr[ii]\n",
    "    lpr = np.log(pr)\n",
    "    return tm[0:-1], -np.diff(lpr) / np.diff(tm)\n",
    "\n",
    "plt.grid(True)\n",
    "for sex in \"Female\", \"Male\":\n",
    "    dx = df.loc[df.Gender == sex, :]\n",
    "    s = sm.SurvfuncRight(dx.lifespan, dx.status, title=sex)\n",
    "    tm, hz = hazard(s)\n",
    "    plt.plot(tm, np.log(hz), lw=3, label=sex)\n",
    "ha, lb = plt.gca().get_legend_handles_labels()\n",
    "leg = plt.figlegend(ha, lb, \"upper center\", ncol=2)\n",
    "leg.draw_frame(False)\n",
    "plt.xlabel(\"Age\", size=15)\n",
    "plt.ylabel(\"Log hazard\", size=15)\n",
    "_ = plt.xlim(0, 90)"
   ]
  },
  {
   "cell_type": "markdown",
   "metadata": {},
   "source": [
    "We can also subdivide the population by era, and see how the survival\n",
    "distributions vary over time."
   ]
  },
  {
   "cell_type": "code",
   "execution_count": null,
   "metadata": {},
   "outputs": [],
   "source": [
    "ax = plt.gca()\n",
    "plt.grid(True)\n",
    "plt.xlabel(\"Lifespan (years)\", size=15)\n",
    "plt.ylabel(\"Proportion\", size=15)\n",
    "for byear in np.arange(0, 2000, 500):\n",
    "    ii = (df.BYear >= byear) & (df.BYear < byear + 500)\n",
    "    dx = df.loc[ii, :]\n",
    "    s = sm.SurvfuncRight(dx.lifespan, dx.status,\n",
    "                         title=\"%d-%d\" % (byear, byear+500))\n",
    "    s.plot(ax=ax)\n",
    "\n",
    "# Create a legend\n",
    "ha, lb = ax.get_legend_handles_labels()\n",
    "ha = [ha[i] for i in range(0, len(ha), 2)] # Optional, hide points from legend\n",
    "lb = [lb[i] for i in range(0, len(lb), 2)]\n",
    "leg = plt.figlegend(ha, lb, loc=\"upper center\", ncol=4)\n",
    "leg.draw_frame(False)"
   ]
  },
  {
   "cell_type": "markdown",
   "metadata": {},
   "source": [
    "Below we show the hazard functions corresponding to the survival functions\n",
    "plotted above."
   ]
  },
  {
   "cell_type": "code",
   "execution_count": null,
   "metadata": {},
   "outputs": [],
   "source": [
    "plt.grid(True)\n",
    "for byear in np.arange(0, 2000, 500):\n",
    "    ii = (df.BYear >= byear) & (df.BYear < byear + 500)\n",
    "    dx = df.loc[ii, :]\n",
    "    s = sm.SurvfuncRight(dx.lifespan, dx.status)\n",
    "    tm, hz = hazard(s)\n",
    "    plt.plot(tm, np.log(hz), lw=3, label=\"%d-%d\" % (byear, byear+500))\n",
    "ha, lb = plt.gca().get_legend_handles_labels()\n",
    "leg = plt.figlegend(ha, lb, \"upper center\", ncol=4)\n",
    "leg.draw_frame(False)\n",
    "plt.xlabel(\"Age\", size=15)\n",
    "plt.ylabel(\"Log hazard\", size=15)\n",
    "plt.xlim(0, 90)"
   ]
  },
  {
   "cell_type": "markdown",
   "metadata": {},
   "source": [
    "Finally we can fit a proportional hazards model to the data, to see\n",
    "how the hazards (of dying) vary with age and gender."
   ]
  },
  {
   "cell_type": "code",
   "execution_count": null,
   "metadata": {},
   "outputs": [],
   "source": [
    "df = df.loc[df.Gender.isin([\"Female\", \"Male\"]), :]\n",
    "\n",
    "fml = \"lifespan ~ BYear + Gender + BYear*Gender\"\n",
    "model3 = sm.PHReg.from_formula(fml, data=df)\n",
    "result3 = model3.fit()\n",
    "result3.summary()"
   ]
  },
  {
   "cell_type": "markdown",
   "metadata": {},
   "source": [
    "To visualize the hazards as estimated by this model, we can plot the\n",
    "log hazards with respect to age, for females and for males."
   ]
  },
  {
   "cell_type": "code",
   "execution_count": null,
   "metadata": {},
   "outputs": [],
   "source": [
    "plt.grid(True)\n",
    "\n",
    "for gender in \"Female\", \"Male\":\n",
    "    dx = df.iloc[0:100, :].copy()\n",
    "    dx[\"BYear\"] = np.linspace(0, 2019, 100)\n",
    "    dx[\"Gender\"] = gender\n",
    "    y = result3.predict(exog=dx)\n",
    "    plt.plot(dx.BYear, y.predicted_values, label=gender)\n",
    "\n",
    "ha, lb = plt.gca().get_legend_handles_labels()\n",
    "leg = plt.figlegend(ha, lb, \"upper center\", ncol=2)\n",
    "leg.draw_frame(False)\n",
    "\n",
    "plt.xlabel(\"Birth year\")\n",
    "_ = plt.ylabel(\"Log hazard ratio\")"
   ]
  },
  {
   "cell_type": "markdown",
   "metadata": {},
   "source": [
    "We can also plot the baseline hazard function, which shows as expected\n",
    "that the hazard of dying increases sharply with age."
   ]
  },
  {
   "cell_type": "code",
   "execution_count": null,
   "metadata": {},
   "outputs": [],
   "source": [
    "# Plot the baseline hazard function\n",
    "bhaz = result3.baseline_cumulative_hazard[0]\n",
    "x = bhaz[0]\n",
    "y = bhaz[1]\n",
    "haz = np.diff(y, 1) / np.diff(x, 1)\n",
    "plt.clf()\n",
    "plt.grid(True)\n",
    "plt.plot(x[0:-1], haz, lw=3)\n",
    "plt.xlim(0, 90)\n",
    "plt.ylim(0, 2)\n",
    "plt.xlabel(\"Age (years)\", size=15)\n",
    "_ = plt.ylabel(\"Hazard\", size=15)"
   ]
  },
  {
   "cell_type": "markdown",
   "metadata": {},
   "source": [
    "# Survival analysis of NHANES III data\n",
    "\n",
    "Next we turn to another example, using the NHANES III data.\n",
    "This is a special set of NHANES data in which the social\n",
    "security death index (and other sources) were used to\n",
    "assess which subjects from an earlier wave of NHANES were\n",
    "still alive at a given point in time.\n",
    "\n",
    "Data sources:\n",
    "\n",
    "https://wwwn.cdc.gov/nchs/nhanes/nhanes3/datafiles.aspx\n",
    "\n",
    "https://www.cdc.gov/nchs/data-linkage/mortality-public.htm\n",
    "\n",
    "Performing this analysis requires us to merge a datafile\n",
    "of measures obtained at the time of their NHANES assessments\n",
    "with a separate datafile collected much later to assess their mortality\n",
    "status."
   ]
  },
  {
   "cell_type": "code",
   "execution_count": null,
   "metadata": {},
   "outputs": [],
   "source": [
    "dpath = \"/nfs/kshedden/NHANES/\""
   ]
  },
  {
   "cell_type": "markdown",
   "metadata": {},
   "source": [
    "First we read the survival data."
   ]
  },
  {
   "cell_type": "code",
   "execution_count": null,
   "metadata": {},
   "outputs": [],
   "source": [
    "fname = \"NHANES_III_MORT_2011_PUBLIC.dat.gz\"\n",
    "colspecs = [(0, 5), (14, 15), (15, 16), (43, 46), (46, 49)]\n",
    "names = [\"seqn\", \"eligstat\", \"mortstat\", \"permth_int\", \"permth_exam\"]\n",
    "f = os.path.join(dpath, fname)\n",
    "surv = pd.read_fwf(f, colspecs=colspecs, names=names, compression=\"gzip\")"
   ]
  },
  {
   "cell_type": "markdown",
   "metadata": {},
   "source": [
    "Next we read the interview/examination data and merge it with the survival data."
   ]
  },
  {
   "cell_type": "code",
   "execution_count": null,
   "metadata": {},
   "outputs": [],
   "source": [
    "fname = \"adult.dat.gz\"\n",
    "colspecs = [(0, 5), (14, 15), (17, 19), (28, 31), (33, 34), (32, 33), (34, 35), (35, 41)]\n",
    "names = [\"seqn\", \"sex\", \"age\", \"county\", \"urbanrural\", \"state\", \"region\", \"poverty\"]\n",
    "f = os.path.join(dpath, fname)\n",
    "df = pd.read_fwf(f, colspecs=colspecs, names=names, compression=\"gzip\")\n",
    "df = pd.merge(surv, df, left_on=\"seqn\", right_on=\"seqn\")"
   ]
  },
  {
   "cell_type": "markdown",
   "metadata": {},
   "source": [
    "Before starting the analysis, we will modify a few of the variables for clarity."
   ]
  },
  {
   "cell_type": "code",
   "execution_count": null,
   "metadata": {},
   "outputs": [],
   "source": [
    "df[\"poverty\"] = df[\"poverty\"].replace({888888: np.nan})\n",
    "df[\"female\"] = (df.sex == 2).astype(np.int)\n",
    "df[\"rural\"] = (df.urbanrural == 2).astype(np.int)\n",
    "df[\"age_int\"] = 12*df.age  # months\n",
    "df[\"end\"] = df.age_int + df.permth_int  # months\n",
    "\n",
    "df = df.dropna()"
   ]
  },
  {
   "cell_type": "markdown",
   "metadata": {},
   "source": [
    "All of these subjects were known to be alive at the time\n",
    "that they participated in the NHANES study.  The variable\n",
    "`age` is the age of a subject when they participated in\n",
    "NHANES.  We convert this to months above\n",
    "and call it `age_int`.  The variable `end` contains\n",
    "the age of a subject when their status was checked in the\n",
    "NHANES mortality study.  This is either their age\n",
    "when they died (if they died), or the last known age when\n",
    "they were known to be alive.  The `mortstat` variable indicates\n",
    "which of these two states applies.\n",
    "\n",
    "`SurvfuncRight` can't handle 0 survival times, so we remove them."
   ]
  },
  {
   "cell_type": "code",
   "execution_count": null,
   "metadata": {},
   "outputs": [],
   "source": [
    "df = df.loc[df.end > df.age_int]"
   ]
  },
  {
   "cell_type": "markdown",
   "metadata": {},
   "source": [
    "We can estimate the hazard function (for death) for women and for men,\n",
    "and plot them together for comparison."
   ]
  },
  {
   "cell_type": "code",
   "execution_count": null,
   "metadata": {},
   "outputs": [],
   "source": [
    "# The hazard function is the derivative of the cumlative hazard function.\n",
    "def hazard(sf):\n",
    "    tm = s.surv_times\n",
    "    pr = s.surv_prob\n",
    "    ii = (pr > 0)\n",
    "    tm = tm[ii]\n",
    "    pr = pr[ii]\n",
    "    lpr = np.log(pr)\n",
    "    return tm[0:-1], -np.diff(lpr) / np.diff(tm)\n",
    "\n",
    "# Plot hazard functions for women and men\n",
    "plt.grid(True)\n",
    "sex = {0: \"Male\", 1: \"Female\"}\n",
    "for female in (0, 1):\n",
    "    ii = df.female == female\n",
    "    dx = df.loc[ii, :]\n",
    "    s = sm.SurvfuncRight(dx.loc[:, \"end\"], dx.loc[:, \"mortstat\"],\n",
    "                   entry=dx.loc[:, \"age_int\"])\n",
    "    tm, hz = hazard(s)\n",
    "    ha = sm.nonparametric.lowess(np.log(hz), tm/12)\n",
    "    plt.plot(ha[:, 0], ha[:, 1], lw=3, label=sex[female])\n",
    "ha, lb = plt.gca().get_legend_handles_labels()\n",
    "leg = plt.figlegend(ha, lb, \"upper center\", ncol=2)\n",
    "leg.draw_frame(False)\n",
    "plt.xlabel(\"Age\", size=15)\n",
    "plt.ylabel(\"Log hazard\", size=15)\n",
    "_ = plt.xlim(18, 90)"
   ]
  },
  {
   "cell_type": "markdown",
   "metadata": {},
   "source": [
    "Next we fit a proportional hazards regression model, looking\n",
    "at risk for dying as a function of a subject's gender,\n",
    "urban/rural status, and poverty status (higher values of the\n",
    "`poverty` variable correspond to greater wealth)."
   ]
  },
  {
   "cell_type": "code",
   "execution_count": null,
   "metadata": {},
   "outputs": [],
   "source": [
    "fml = \"end ~ female + rural + C(region) + poverty\"\n",
    "model1 = sm.PHReg.from_formula(fml, status=\"mortstat\", entry=df.age_int,\n",
    "                               data=df)\n",
    "result1 = model1.fit()\n",
    "result1.summary()"
   ]
  },
  {
   "cell_type": "markdown",
   "metadata": {},
   "source": [
    "We now extend this model by controlling for regions as covariates."
   ]
  },
  {
   "cell_type": "code",
   "execution_count": null,
   "metadata": {},
   "outputs": [],
   "source": [
    "fml = \"end ~ female + rural + C(region) + poverty\"\n",
    "model2 = sm.PHReg.from_formula(fml, status=\"mortstat\", entry=df.age_int,\n",
    "                               strata=df.state, data=df)\n",
    "result2 = model2.fit()\n",
    "result2.summary()"
   ]
  },
  {
   "cell_type": "markdown",
   "metadata": {},
   "source": [
    "We now further control for geographical heterogeneity, by\n",
    "stratifying on the counties."
   ]
  },
  {
   "cell_type": "code",
   "execution_count": null,
   "metadata": {},
   "outputs": [],
   "source": [
    "fml = \"end ~ female + rural + C(region) + poverty\"\n",
    "model3 = sm.PHReg.from_formula(fml, status=\"mortstat\", entry=df.age_int,\n",
    "                               strata=df.county, data=df)\n",
    "result3 = model3.fit()\n",
    "result3.summary()"
   ]
  },
  {
   "cell_type": "markdown",
   "metadata": {},
   "source": [
    "In these analyses, the gender and poverty effects are very similar\n",
    "across three analytic approaches.  However the association between\n",
    "urban/rural status and mortality changes substantially depending on how we\n",
    "model the role of geography.  It is possible that there is an increased\n",
    "hazard of dying for people in a rural location, if we compare them\n",
    "to people who live in a more urban part of the same county."
   ]
  }
 ],
 "metadata": {},
 "nbformat": 4,
 "nbformat_minor": 1
}
